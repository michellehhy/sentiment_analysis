{
  "nbformat": 4,
  "nbformat_minor": 0,
  "metadata": {
    "colab": {
      "name": "SA_textblob_sentence-level.ipynb",
      "provenance": []
    },
    "kernelspec": {
      "name": "python3",
      "display_name": "Python 3"
    },
    "language_info": {
      "name": "python"
    }
  },
  "cells": [
    {
      "cell_type": "code",
      "metadata": {
        "id": "rLO5dyhOcdaG"
      },
      "source": [
        "!pip install -q textblob "
      ],
      "execution_count": 1,
      "outputs": []
    },
    {
      "cell_type": "code",
      "metadata": {
        "colab": {
          "base_uri": "https://localhost:8080/"
        },
        "id": "HDHhzZIPbMrl",
        "outputId": "a788fb73-511b-41d1-bfa4-b2298e084842"
      },
      "source": [
        "from google.colab import drive\n",
        "drive.mount('/content/drive')"
      ],
      "execution_count": 2,
      "outputs": [
        {
          "output_type": "stream",
          "text": [
            "Drive already mounted at /content/drive; to attempt to forcibly remount, call drive.mount(\"/content/drive\", force_remount=True).\n"
          ],
          "name": "stdout"
        }
      ]
    },
    {
      "cell_type": "code",
      "metadata": {
        "id": "Ee_GFTyScZr7"
      },
      "source": [
        "import pandas as pd\n",
        "from textblob import TextBlob"
      ],
      "execution_count": 3,
      "outputs": []
    },
    {
      "cell_type": "code",
      "metadata": {
        "colab": {
          "base_uri": "https://localhost:8080/",
          "height": 205
        },
        "id": "yBt_9-_bcYIz",
        "outputId": "52663561-4a41-4fd5-ba90-49a5b3976e22"
      },
      "source": [
        "df = pd.read_csv('drive/MyDrive/bbc_sent_final.csv',encoding = 'utf-8')\n",
        "df.head()"
      ],
      "execution_count": 4,
      "outputs": [
        {
          "output_type": "execute_result",
          "data": {
            "text/html": [
              "<div>\n",
              "<style scoped>\n",
              "    .dataframe tbody tr th:only-of-type {\n",
              "        vertical-align: middle;\n",
              "    }\n",
              "\n",
              "    .dataframe tbody tr th {\n",
              "        vertical-align: top;\n",
              "    }\n",
              "\n",
              "    .dataframe thead th {\n",
              "        text-align: right;\n",
              "    }\n",
              "</style>\n",
              "<table border=\"1\" class=\"dataframe\">\n",
              "  <thead>\n",
              "    <tr style=\"text-align: right;\">\n",
              "      <th></th>\n",
              "      <th>text</th>\n",
              "      <th>sent</th>\n",
              "    </tr>\n",
              "  </thead>\n",
              "  <tbody>\n",
              "    <tr>\n",
              "      <th>0</th>\n",
              "      <td>Psychiatrists are being urged to ask children ...</td>\n",
              "      <td>0</td>\n",
              "    </tr>\n",
              "    <tr>\n",
              "      <th>1</th>\n",
              "      <td>The number of adults seeking help to cope with...</td>\n",
              "      <td>-1</td>\n",
              "    </tr>\n",
              "    <tr>\n",
              "      <th>2</th>\n",
              "      <td>The current system of checking newborns for hi...</td>\n",
              "      <td>-1</td>\n",
              "    </tr>\n",
              "    <tr>\n",
              "      <th>3</th>\n",
              "      <td>Calorie-filled Easter eggs are being sold in s...</td>\n",
              "      <td>-1</td>\n",
              "    </tr>\n",
              "    <tr>\n",
              "      <th>4</th>\n",
              "      <td>\"She is so desperate to end it all, she curren...</td>\n",
              "      <td>-1</td>\n",
              "    </tr>\n",
              "  </tbody>\n",
              "</table>\n",
              "</div>"
            ],
            "text/plain": [
              "                                                text  sent\n",
              "0  Psychiatrists are being urged to ask children ...     0\n",
              "1  The number of adults seeking help to cope with...    -1\n",
              "2  The current system of checking newborns for hi...    -1\n",
              "3  Calorie-filled Easter eggs are being sold in s...    -1\n",
              "4  \"She is so desperate to end it all, she curren...    -1"
            ]
          },
          "metadata": {
            "tags": []
          },
          "execution_count": 4
        }
      ]
    },
    {
      "cell_type": "code",
      "metadata": {
        "colab": {
          "base_uri": "https://localhost:8080/"
        },
        "id": "3SLj6NKXeHeg",
        "outputId": "ecd7bee7-2a2a-4892-f4c3-e394414f483a"
      },
      "source": [
        "import nltk\n",
        "nltk.download('punkt')"
      ],
      "execution_count": 8,
      "outputs": [
        {
          "output_type": "stream",
          "text": [
            "[nltk_data] Downloading package punkt to /root/nltk_data...\n",
            "[nltk_data]   Package punkt is already up-to-date!\n"
          ],
          "name": "stdout"
        },
        {
          "output_type": "execute_result",
          "data": {
            "text/plain": [
              "True"
            ]
          },
          "metadata": {
            "tags": []
          },
          "execution_count": 8
        }
      ]
    },
    {
      "cell_type": "code",
      "metadata": {
        "id": "DOURw3SheMS3"
      },
      "source": [
        "def break_text(text):\n",
        "  return nltk.tokenize.sent_tokenize(text)"
      ],
      "execution_count": 9,
      "outputs": []
    },
    {
      "cell_type": "code",
      "metadata": {
        "id": "XGwFVn-DNot6"
      },
      "source": [
        "df['sentences']=df.text.apply(break_text)"
      ],
      "execution_count": 10,
      "outputs": []
    },
    {
      "cell_type": "code",
      "metadata": {
        "colab": {
          "base_uri": "https://localhost:8080/"
        },
        "id": "tyuoI-kINtsJ",
        "outputId": "2cfbb4a3-c776-4223-fda2-2ad26c0202ab"
      },
      "source": [
        "df.sentences[0]"
      ],
      "execution_count": 12,
      "outputs": [
        {
          "output_type": "execute_result",
          "data": {
            "text/plain": [
              "['Psychiatrists are being urged to ask children with mental health issues how long they spend online and what they use social media for.',\n",
              " 'Questions about technology should be a routine part of assessments, the Royal College of Psychiatrists says.',\n",
              " 'It is concerned about how time spent online impacts on mood, sleep, diet and behaviour.',\n",
              " 'The government is expected to announce plans to regulate social media companies soon.',\n",
              " \"The College's advice comes as evidence grows of a possible link between harmful content or time spent online, and poor mental health.\",\n",
              " \"It is planning to publish a report later this year about its stance on technology use and children's mental health, which will include recommendations for parents, children and doctors.\",\n",
              " 'When assessing children, psychiatrists are being advised to think about:\\nThe Royal College of Psychiatrists recommends that children stop using technology at least an hour before going to bed, and avoid using technology at mealtimes.',\n",
              " 'This is a view echoed by the Chief Medical Officer in her recent guidance on social media.',\n",
              " 'A group of MPs recently called for a tax on social media companies\\' profits, saying the firms are operating in \"an online wild west\" and should help fund research into the links between technology use and mental illness.',\n",
              " \"The government is expected to announce plans for an independent regulator which would enforce a new statutory 'duty of care' on social media companies.\",\n",
              " 'This comes after growing concerns about graphic online content, including material featuring suicide and self-harm.',\n",
              " 'Earlier this year, the father of 14-year-old Molly Russell, who took her own life in 2017, said Instagram had \"helped kill\" his daughter.',\n",
              " 'Dr Bernadka Dubicka, chair of the child and adolescent faculty at RCPsych, said: \"Although we recognise that social media and technology are not primary drivers of mental illness in young people, we know that they are an important part of their lives and can be harmful in some situations.',\n",
              " '\"As a frontline clinician, I regularly see young people who have deliberately hurt themselves after discussing self-harm techniques online.',\n",
              " '\"Clinicians recognise the well-known phenomena of young people copying each other\\'s harmful behaviour while on in-patient units, but it\\'s even more worrying to see this replicated in the online world where audiences are so much bigger.\"',\n",
              " 'She added: \"We\\'re also finding that some young people report being recommended harmful content; for example, links to websites encouraging weight loss or displaying self-harm after searching for, or clicking on, similar content just once before.\"',\n",
              " \"Dr Dubicka said it was important to consider whether social media was affecting children and young people's mental health so that the causes of their distress could be addressed.\",\n",
              " 'Emma Thomas, chief executive of Young Minds, said: \"Young people we work with rarely say that social media is the \\'cause\\' of mental health conditions, but they say it can heighten problems that they are already struggling with, adding to anxiety or making them feel worse when they compare their lives to those of other people.\"',\n",
              " 'Claire Murdoch, national director for mental health at NHS England, said: \"Social media plays a big part in everyday life for most children and young people, but it should act as a wake-up call when leading psychiatrists say online activities now need to be considered when assessing youngsters\\' mental health and wellbeing.\"',\n",
              " 'She said the NHS planned to improve access to mental health services for young people but expected social media giants to \"step up to the plate\".']"
            ]
          },
          "metadata": {
            "tags": []
          },
          "execution_count": 12
        }
      ]
    },
    {
      "cell_type": "code",
      "metadata": {
        "id": "U7rT2m4tcwbR"
      },
      "source": [
        "def subjectivity(text):\n",
        "  return TextBlob(text).sentiment.subjectivity"
      ],
      "execution_count": 23,
      "outputs": []
    },
    {
      "cell_type": "code",
      "metadata": {
        "id": "ncNdnDTgcysO"
      },
      "source": [
        "def polarity(text):\n",
        "  return TextBlob(text).sentiment.polarity"
      ],
      "execution_count": 24,
      "outputs": []
    },
    {
      "cell_type": "code",
      "metadata": {
        "colab": {
          "base_uri": "https://localhost:8080/"
        },
        "id": "nioYBW6HPtxF",
        "outputId": "e69f1874-e084-45eb-f072-2cad364b545f"
      },
      "source": [
        "s = \"I AM HAPPY!\"\n",
        "subjectivity(s)"
      ],
      "execution_count": 28,
      "outputs": [
        {
          "output_type": "execute_result",
          "data": {
            "text/plain": [
              "1.0"
            ]
          },
          "metadata": {
            "tags": []
          },
          "execution_count": 28
        }
      ]
    },
    {
      "cell_type": "code",
      "metadata": {
        "id": "FT-Uz17GPB7h"
      },
      "source": [
        "def get_sub(text):\n",
        "  sub = []\n",
        "  for i in text:\n",
        "    sub.append(subjectivity(i))\n",
        "  return sum(sub) / len(text)"
      ],
      "execution_count": 45,
      "outputs": []
    },
    {
      "cell_type": "code",
      "metadata": {
        "id": "OOGdQFB1Qe9W"
      },
      "source": [
        "def get_pol(text):\n",
        "  pol = []\n",
        "  for i in text:\n",
        "    pol.append(polarity(i))\n",
        "  return sum(pol)"
      ],
      "execution_count": 40,
      "outputs": []
    },
    {
      "cell_type": "code",
      "metadata": {
        "id": "CRlY6gTClYLC"
      },
      "source": [
        "df['subjectivity'] = df.sentences.apply(get_sub)"
      ],
      "execution_count": 46,
      "outputs": []
    },
    {
      "cell_type": "code",
      "metadata": {
        "id": "S-U1SE3ZQj0b"
      },
      "source": [
        "df['polarity'] = df.sentences.apply(get_pol)"
      ],
      "execution_count": 47,
      "outputs": []
    },
    {
      "cell_type": "code",
      "metadata": {
        "id": "uH2KcV-UsG04"
      },
      "source": [
        "def label(avg_score):\n",
        "  if avg_score == 0:\n",
        "    return 0\n",
        "  elif avg_score >0:\n",
        "    return 1\n",
        "  else:\n",
        "    return -1"
      ],
      "execution_count": 53,
      "outputs": []
    },
    {
      "cell_type": "code",
      "metadata": {
        "id": "UJMAj3mxstAV"
      },
      "source": [
        "df[\"label\"]=df[\"polarity\"].apply(label)"
      ],
      "execution_count": 54,
      "outputs": []
    },
    {
      "cell_type": "code",
      "metadata": {
        "colab": {
          "base_uri": "https://localhost:8080/",
          "height": 205
        },
        "id": "KGoK_7nNJqVY",
        "outputId": "ac159be0-7416-4272-dbba-a23765081544"
      },
      "source": [
        "df.head()"
      ],
      "execution_count": 60,
      "outputs": [
        {
          "output_type": "execute_result",
          "data": {
            "text/html": [
              "<div>\n",
              "<style scoped>\n",
              "    .dataframe tbody tr th:only-of-type {\n",
              "        vertical-align: middle;\n",
              "    }\n",
              "\n",
              "    .dataframe tbody tr th {\n",
              "        vertical-align: top;\n",
              "    }\n",
              "\n",
              "    .dataframe thead th {\n",
              "        text-align: right;\n",
              "    }\n",
              "</style>\n",
              "<table border=\"1\" class=\"dataframe\">\n",
              "  <thead>\n",
              "    <tr style=\"text-align: right;\">\n",
              "      <th></th>\n",
              "      <th>text</th>\n",
              "      <th>sent</th>\n",
              "      <th>sentences</th>\n",
              "      <th>subjectivity</th>\n",
              "      <th>polarity</th>\n",
              "      <th>label</th>\n",
              "    </tr>\n",
              "  </thead>\n",
              "  <tbody>\n",
              "    <tr>\n",
              "      <th>0</th>\n",
              "      <td>Psychiatrists are being urged to ask children ...</td>\n",
              "      <td>0</td>\n",
              "      <td>[Psychiatrists are being urged to ask children...</td>\n",
              "      <td>0.309559</td>\n",
              "      <td>0.041968</td>\n",
              "      <td>1</td>\n",
              "    </tr>\n",
              "    <tr>\n",
              "      <th>1</th>\n",
              "      <td>The number of adults seeking help to cope with...</td>\n",
              "      <td>-1</td>\n",
              "      <td>[The number of adults seeking help to cope wit...</td>\n",
              "      <td>0.479917</td>\n",
              "      <td>-1.191439</td>\n",
              "      <td>-1</td>\n",
              "    </tr>\n",
              "    <tr>\n",
              "      <th>2</th>\n",
              "      <td>The current system of checking newborns for hi...</td>\n",
              "      <td>-1</td>\n",
              "      <td>[The current system of checking newborns for h...</td>\n",
              "      <td>0.481573</td>\n",
              "      <td>0.819141</td>\n",
              "      <td>1</td>\n",
              "    </tr>\n",
              "    <tr>\n",
              "      <th>3</th>\n",
              "      <td>Calorie-filled Easter eggs are being sold in s...</td>\n",
              "      <td>-1</td>\n",
              "      <td>[Calorie-filled Easter eggs are being sold in ...</td>\n",
              "      <td>0.386764</td>\n",
              "      <td>1.110516</td>\n",
              "      <td>1</td>\n",
              "    </tr>\n",
              "    <tr>\n",
              "      <th>4</th>\n",
              "      <td>\"She is so desperate to end it all, she curren...</td>\n",
              "      <td>-1</td>\n",
              "      <td>[\"She is so desperate to end it all, she curre...</td>\n",
              "      <td>0.402972</td>\n",
              "      <td>0.674756</td>\n",
              "      <td>1</td>\n",
              "    </tr>\n",
              "  </tbody>\n",
              "</table>\n",
              "</div>"
            ],
            "text/plain": [
              "                                                text  sent  ...  polarity  label\n",
              "0  Psychiatrists are being urged to ask children ...     0  ...  0.041968      1\n",
              "1  The number of adults seeking help to cope with...    -1  ... -1.191439     -1\n",
              "2  The current system of checking newborns for hi...    -1  ...  0.819141      1\n",
              "3  Calorie-filled Easter eggs are being sold in s...    -1  ...  1.110516      1\n",
              "4  \"She is so desperate to end it all, she curren...    -1  ...  0.674756      1\n",
              "\n",
              "[5 rows x 6 columns]"
            ]
          },
          "metadata": {
            "tags": []
          },
          "execution_count": 60
        }
      ]
    },
    {
      "cell_type": "code",
      "metadata": {
        "id": "ZXJOJ0Q3I7NU"
      },
      "source": [
        "diff = df.label == df.sent"
      ],
      "execution_count": 58,
      "outputs": []
    },
    {
      "cell_type": "code",
      "metadata": {
        "colab": {
          "base_uri": "https://localhost:8080/"
        },
        "id": "IhqWak7BRQLL",
        "outputId": "c29ce918-fd90-428a-e17b-330f097d23ca"
      },
      "source": [
        "tb_count = 0\n",
        "for i in diff:\n",
        "  if i:\n",
        "    tb_count += 1\n",
        "\n",
        "tb_count\n",
        "  "
      ],
      "execution_count": 59,
      "outputs": [
        {
          "output_type": "execute_result",
          "data": {
            "text/plain": [
              "34"
            ]
          },
          "metadata": {
            "tags": []
          },
          "execution_count": 59
        }
      ]
    },
    {
      "cell_type": "markdown",
      "metadata": {
        "id": "ys02osJgRa2t"
      },
      "source": [
        "# Vader "
      ]
    },
    {
      "cell_type": "code",
      "metadata": {
        "colab": {
          "base_uri": "https://localhost:8080/"
        },
        "id": "Z2jeHslNRjEi",
        "outputId": "34bba5c3-a527-45cc-cca2-b722b1b4f706"
      },
      "source": [
        "import nltk\n",
        "from nltk.sentiment.vader import SentimentIntensityAnalyzer as SIA\n",
        "nltk.download('vader_lexicon')\n",
        "sia = SIA()"
      ],
      "execution_count": 61,
      "outputs": [
        {
          "output_type": "stream",
          "text": [
            "[nltk_data] Downloading package vader_lexicon to /root/nltk_data...\n"
          ],
          "name": "stdout"
        },
        {
          "output_type": "stream",
          "text": [
            "/usr/local/lib/python3.7/dist-packages/nltk/twitter/__init__.py:20: UserWarning: The twython library has not been installed. Some functionality from the twitter package will not be available.\n",
            "  warnings.warn(\"The twython library has not been installed. \"\n"
          ],
          "name": "stderr"
        }
      ]
    },
    {
      "cell_type": "code",
      "metadata": {
        "id": "2qUSPXN_Rq1W"
      },
      "source": [
        "def vader_pol(text):\n",
        "  return sia.polarity_scores(text)['compound']"
      ],
      "execution_count": 67,
      "outputs": []
    },
    {
      "cell_type": "code",
      "metadata": {
        "id": "11mT8EF5R2yH"
      },
      "source": [
        "def get_vader_pol(text):\n",
        "  v_pol =[]\n",
        "  for i in text:\n",
        "    v_pol.append(vader_pol(i))\n",
        "  return sum(v_pol)  "
      ],
      "execution_count": 63,
      "outputs": []
    },
    {
      "cell_type": "code",
      "metadata": {
        "id": "nZRIBIa_Rb9V"
      },
      "source": [
        "df['vader_pol']=df.sentences.apply(get_vader_pol)"
      ],
      "execution_count": 68,
      "outputs": []
    },
    {
      "cell_type": "code",
      "metadata": {
        "id": "eZoLP0iXSNAO"
      },
      "source": [
        "df['vader_label']=df.vader_pol.apply(label)"
      ],
      "execution_count": 70,
      "outputs": []
    },
    {
      "cell_type": "code",
      "metadata": {
        "colab": {
          "base_uri": "https://localhost:8080/",
          "height": 205
        },
        "id": "C50ISnPMSKre",
        "outputId": "c413236d-fa22-47cf-e835-3bd4cc2cf994"
      },
      "source": [
        "df.head()"
      ],
      "execution_count": 71,
      "outputs": [
        {
          "output_type": "execute_result",
          "data": {
            "text/html": [
              "<div>\n",
              "<style scoped>\n",
              "    .dataframe tbody tr th:only-of-type {\n",
              "        vertical-align: middle;\n",
              "    }\n",
              "\n",
              "    .dataframe tbody tr th {\n",
              "        vertical-align: top;\n",
              "    }\n",
              "\n",
              "    .dataframe thead th {\n",
              "        text-align: right;\n",
              "    }\n",
              "</style>\n",
              "<table border=\"1\" class=\"dataframe\">\n",
              "  <thead>\n",
              "    <tr style=\"text-align: right;\">\n",
              "      <th></th>\n",
              "      <th>text</th>\n",
              "      <th>sent</th>\n",
              "      <th>sentences</th>\n",
              "      <th>subjectivity</th>\n",
              "      <th>polarity</th>\n",
              "      <th>label</th>\n",
              "      <th>vader_pol</th>\n",
              "      <th>vader_label</th>\n",
              "    </tr>\n",
              "  </thead>\n",
              "  <tbody>\n",
              "    <tr>\n",
              "      <th>0</th>\n",
              "      <td>Psychiatrists are being urged to ask children ...</td>\n",
              "      <td>0</td>\n",
              "      <td>[Psychiatrists are being urged to ask children...</td>\n",
              "      <td>0.309559</td>\n",
              "      <td>0.041968</td>\n",
              "      <td>1</td>\n",
              "      <td>-2.9821</td>\n",
              "      <td>-1</td>\n",
              "    </tr>\n",
              "    <tr>\n",
              "      <th>1</th>\n",
              "      <td>The number of adults seeking help to cope with...</td>\n",
              "      <td>-1</td>\n",
              "      <td>[The number of adults seeking help to cope wit...</td>\n",
              "      <td>0.479917</td>\n",
              "      <td>-1.191439</td>\n",
              "      <td>-1</td>\n",
              "      <td>-1.5966</td>\n",
              "      <td>-1</td>\n",
              "    </tr>\n",
              "    <tr>\n",
              "      <th>2</th>\n",
              "      <td>The current system of checking newborns for hi...</td>\n",
              "      <td>-1</td>\n",
              "      <td>[The current system of checking newborns for h...</td>\n",
              "      <td>0.481573</td>\n",
              "      <td>0.819141</td>\n",
              "      <td>1</td>\n",
              "      <td>-6.4828</td>\n",
              "      <td>-1</td>\n",
              "    </tr>\n",
              "    <tr>\n",
              "      <th>3</th>\n",
              "      <td>Calorie-filled Easter eggs are being sold in s...</td>\n",
              "      <td>-1</td>\n",
              "      <td>[Calorie-filled Easter eggs are being sold in ...</td>\n",
              "      <td>0.386764</td>\n",
              "      <td>1.110516</td>\n",
              "      <td>1</td>\n",
              "      <td>1.0280</td>\n",
              "      <td>1</td>\n",
              "    </tr>\n",
              "    <tr>\n",
              "      <th>4</th>\n",
              "      <td>\"She is so desperate to end it all, she curren...</td>\n",
              "      <td>-1</td>\n",
              "      <td>[\"She is so desperate to end it all, she curre...</td>\n",
              "      <td>0.402972</td>\n",
              "      <td>0.674756</td>\n",
              "      <td>1</td>\n",
              "      <td>-1.0905</td>\n",
              "      <td>-1</td>\n",
              "    </tr>\n",
              "  </tbody>\n",
              "</table>\n",
              "</div>"
            ],
            "text/plain": [
              "                                                text  ...  vader_label\n",
              "0  Psychiatrists are being urged to ask children ...  ...           -1\n",
              "1  The number of adults seeking help to cope with...  ...           -1\n",
              "2  The current system of checking newborns for hi...  ...           -1\n",
              "3  Calorie-filled Easter eggs are being sold in s...  ...            1\n",
              "4  \"She is so desperate to end it all, she curren...  ...           -1\n",
              "\n",
              "[5 rows x 8 columns]"
            ]
          },
          "metadata": {
            "tags": []
          },
          "execution_count": 71
        }
      ]
    },
    {
      "cell_type": "code",
      "metadata": {
        "id": "MOLNDxu7SVLF"
      },
      "source": [
        "vader_diff = df['sent'] == df['vader_label']"
      ],
      "execution_count": 72,
      "outputs": []
    },
    {
      "cell_type": "code",
      "metadata": {
        "colab": {
          "base_uri": "https://localhost:8080/"
        },
        "id": "SweLmEUDSegx",
        "outputId": "e5e2d609-dce6-41d0-9e1a-d6f831bc8ffc"
      },
      "source": [
        "v_count = 0\n",
        "for i in vader_diff:\n",
        "  if i:\n",
        "    v_count += 1\n",
        "\n",
        "v_count"
      ],
      "execution_count": 73,
      "outputs": [
        {
          "output_type": "execute_result",
          "data": {
            "text/plain": [
              "40"
            ]
          },
          "metadata": {
            "tags": []
          },
          "execution_count": 73
        }
      ]
    }
  ]
}