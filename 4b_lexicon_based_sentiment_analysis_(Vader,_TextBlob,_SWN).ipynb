{
  "nbformat": 4,
  "nbformat_minor": 0,
  "metadata": {
    "kernelspec": {
      "display_name": "Python 3",
      "language": "python",
      "name": "python3"
    },
    "language_info": {
      "codemirror_mode": {
        "name": "ipython",
        "version": 3
      },
      "file_extension": ".py",
      "mimetype": "text/x-python",
      "name": "python",
      "nbconvert_exporter": "python",
      "pygments_lexer": "ipython3",
      "version": "3.7.6"
    },
    "colab": {
      "name": "4b_lexicon_based_sentiment_analysis (Vader, TextBlob, SWN).ipynb",
      "provenance": [],
      "collapsed_sections": []
    },
    "widgets": {
      "application/vnd.jupyter.widget-state+json": {
        "0975fdb973a44e64b42257b605195329": {
          "model_module": "@jupyter-widgets/controls",
          "model_name": "HBoxModel",
          "model_module_version": "1.5.0",
          "state": {
            "_view_name": "HBoxView",
            "_dom_classes": [],
            "_model_name": "HBoxModel",
            "_view_module": "@jupyter-widgets/controls",
            "_model_module_version": "1.5.0",
            "_view_count": null,
            "_view_module_version": "1.5.0",
            "box_style": "",
            "layout": "IPY_MODEL_1b9f2a3eabae4491a276fa8282f84834",
            "_model_module": "@jupyter-widgets/controls",
            "children": [
              "IPY_MODEL_1d7ada4b9b354ca4b2d630cfc333197b",
              "IPY_MODEL_79cc9b8c3ddc45c1bdf5ca92488dab83",
              "IPY_MODEL_42515f280f9b49d180ae45bf956c5175"
            ]
          }
        },
        "1b9f2a3eabae4491a276fa8282f84834": {
          "model_module": "@jupyter-widgets/base",
          "model_name": "LayoutModel",
          "model_module_version": "1.2.0",
          "state": {
            "_view_name": "LayoutView",
            "grid_template_rows": null,
            "right": null,
            "justify_content": null,
            "_view_module": "@jupyter-widgets/base",
            "overflow": null,
            "_model_module_version": "1.2.0",
            "_view_count": null,
            "flex_flow": null,
            "width": null,
            "min_width": null,
            "border": null,
            "align_items": null,
            "bottom": null,
            "_model_module": "@jupyter-widgets/base",
            "top": null,
            "grid_column": null,
            "overflow_y": null,
            "overflow_x": null,
            "grid_auto_flow": null,
            "grid_area": null,
            "grid_template_columns": null,
            "flex": null,
            "_model_name": "LayoutModel",
            "justify_items": null,
            "grid_row": null,
            "max_height": null,
            "align_content": null,
            "visibility": null,
            "align_self": null,
            "height": null,
            "min_height": null,
            "padding": null,
            "grid_auto_rows": null,
            "grid_gap": null,
            "max_width": null,
            "order": null,
            "_view_module_version": "1.2.0",
            "grid_template_areas": null,
            "object_position": null,
            "object_fit": null,
            "grid_auto_columns": null,
            "margin": null,
            "display": null,
            "left": null
          }
        },
        "1d7ada4b9b354ca4b2d630cfc333197b": {
          "model_module": "@jupyter-widgets/controls",
          "model_name": "HTMLModel",
          "model_module_version": "1.5.0",
          "state": {
            "_view_name": "HTMLView",
            "style": "IPY_MODEL_eb436d4a0a894c40928490d837ca28dd",
            "_dom_classes": [],
            "description": "",
            "_model_name": "HTMLModel",
            "placeholder": "​",
            "_view_module": "@jupyter-widgets/controls",
            "_model_module_version": "1.5.0",
            "value": "Downloading: 100%",
            "_view_count": null,
            "_view_module_version": "1.5.0",
            "description_tooltip": null,
            "_model_module": "@jupyter-widgets/controls",
            "layout": "IPY_MODEL_a82256f0ae624c27854bf151896a3317"
          }
        },
        "79cc9b8c3ddc45c1bdf5ca92488dab83": {
          "model_module": "@jupyter-widgets/controls",
          "model_name": "FloatProgressModel",
          "model_module_version": "1.5.0",
          "state": {
            "_view_name": "ProgressView",
            "style": "IPY_MODEL_22faed7e48394b0da59dffe95f8665e6",
            "_dom_classes": [],
            "description": "",
            "_model_name": "FloatProgressModel",
            "bar_style": "success",
            "max": 28,
            "_view_module": "@jupyter-widgets/controls",
            "_model_module_version": "1.5.0",
            "value": 28,
            "_view_count": null,
            "_view_module_version": "1.5.0",
            "orientation": "horizontal",
            "min": 0,
            "description_tooltip": null,
            "_model_module": "@jupyter-widgets/controls",
            "layout": "IPY_MODEL_16723dd2599f415a94b45c2834ec40a8"
          }
        },
        "42515f280f9b49d180ae45bf956c5175": {
          "model_module": "@jupyter-widgets/controls",
          "model_name": "HTMLModel",
          "model_module_version": "1.5.0",
          "state": {
            "_view_name": "HTMLView",
            "style": "IPY_MODEL_f5b32c4cc06f4cb2aabd1b33f50531e9",
            "_dom_classes": [],
            "description": "",
            "_model_name": "HTMLModel",
            "placeholder": "​",
            "_view_module": "@jupyter-widgets/controls",
            "_model_module_version": "1.5.0",
            "value": " 28.0/28.0 [00:00&lt;00:00, 661B/s]",
            "_view_count": null,
            "_view_module_version": "1.5.0",
            "description_tooltip": null,
            "_model_module": "@jupyter-widgets/controls",
            "layout": "IPY_MODEL_91e69e5626a448d8bd5bc4bc7efbf225"
          }
        },
        "eb436d4a0a894c40928490d837ca28dd": {
          "model_module": "@jupyter-widgets/controls",
          "model_name": "DescriptionStyleModel",
          "model_module_version": "1.5.0",
          "state": {
            "_view_name": "StyleView",
            "_model_name": "DescriptionStyleModel",
            "description_width": "",
            "_view_module": "@jupyter-widgets/base",
            "_model_module_version": "1.5.0",
            "_view_count": null,
            "_view_module_version": "1.2.0",
            "_model_module": "@jupyter-widgets/controls"
          }
        },
        "a82256f0ae624c27854bf151896a3317": {
          "model_module": "@jupyter-widgets/base",
          "model_name": "LayoutModel",
          "model_module_version": "1.2.0",
          "state": {
            "_view_name": "LayoutView",
            "grid_template_rows": null,
            "right": null,
            "justify_content": null,
            "_view_module": "@jupyter-widgets/base",
            "overflow": null,
            "_model_module_version": "1.2.0",
            "_view_count": null,
            "flex_flow": null,
            "width": null,
            "min_width": null,
            "border": null,
            "align_items": null,
            "bottom": null,
            "_model_module": "@jupyter-widgets/base",
            "top": null,
            "grid_column": null,
            "overflow_y": null,
            "overflow_x": null,
            "grid_auto_flow": null,
            "grid_area": null,
            "grid_template_columns": null,
            "flex": null,
            "_model_name": "LayoutModel",
            "justify_items": null,
            "grid_row": null,
            "max_height": null,
            "align_content": null,
            "visibility": null,
            "align_self": null,
            "height": null,
            "min_height": null,
            "padding": null,
            "grid_auto_rows": null,
            "grid_gap": null,
            "max_width": null,
            "order": null,
            "_view_module_version": "1.2.0",
            "grid_template_areas": null,
            "object_position": null,
            "object_fit": null,
            "grid_auto_columns": null,
            "margin": null,
            "display": null,
            "left": null
          }
        },
        "22faed7e48394b0da59dffe95f8665e6": {
          "model_module": "@jupyter-widgets/controls",
          "model_name": "ProgressStyleModel",
          "model_module_version": "1.5.0",
          "state": {
            "_view_name": "StyleView",
            "_model_name": "ProgressStyleModel",
            "description_width": "",
            "_view_module": "@jupyter-widgets/base",
            "_model_module_version": "1.5.0",
            "_view_count": null,
            "_view_module_version": "1.2.0",
            "bar_color": null,
            "_model_module": "@jupyter-widgets/controls"
          }
        },
        "16723dd2599f415a94b45c2834ec40a8": {
          "model_module": "@jupyter-widgets/base",
          "model_name": "LayoutModel",
          "model_module_version": "1.2.0",
          "state": {
            "_view_name": "LayoutView",
            "grid_template_rows": null,
            "right": null,
            "justify_content": null,
            "_view_module": "@jupyter-widgets/base",
            "overflow": null,
            "_model_module_version": "1.2.0",
            "_view_count": null,
            "flex_flow": null,
            "width": null,
            "min_width": null,
            "border": null,
            "align_items": null,
            "bottom": null,
            "_model_module": "@jupyter-widgets/base",
            "top": null,
            "grid_column": null,
            "overflow_y": null,
            "overflow_x": null,
            "grid_auto_flow": null,
            "grid_area": null,
            "grid_template_columns": null,
            "flex": null,
            "_model_name": "LayoutModel",
            "justify_items": null,
            "grid_row": null,
            "max_height": null,
            "align_content": null,
            "visibility": null,
            "align_self": null,
            "height": null,
            "min_height": null,
            "padding": null,
            "grid_auto_rows": null,
            "grid_gap": null,
            "max_width": null,
            "order": null,
            "_view_module_version": "1.2.0",
            "grid_template_areas": null,
            "object_position": null,
            "object_fit": null,
            "grid_auto_columns": null,
            "margin": null,
            "display": null,
            "left": null
          }
        },
        "f5b32c4cc06f4cb2aabd1b33f50531e9": {
          "model_module": "@jupyter-widgets/controls",
          "model_name": "DescriptionStyleModel",
          "model_module_version": "1.5.0",
          "state": {
            "_view_name": "StyleView",
            "_model_name": "DescriptionStyleModel",
            "description_width": "",
            "_view_module": "@jupyter-widgets/base",
            "_model_module_version": "1.5.0",
            "_view_count": null,
            "_view_module_version": "1.2.0",
            "_model_module": "@jupyter-widgets/controls"
          }
        },
        "91e69e5626a448d8bd5bc4bc7efbf225": {
          "model_module": "@jupyter-widgets/base",
          "model_name": "LayoutModel",
          "model_module_version": "1.2.0",
          "state": {
            "_view_name": "LayoutView",
            "grid_template_rows": null,
            "right": null,
            "justify_content": null,
            "_view_module": "@jupyter-widgets/base",
            "overflow": null,
            "_model_module_version": "1.2.0",
            "_view_count": null,
            "flex_flow": null,
            "width": null,
            "min_width": null,
            "border": null,
            "align_items": null,
            "bottom": null,
            "_model_module": "@jupyter-widgets/base",
            "top": null,
            "grid_column": null,
            "overflow_y": null,
            "overflow_x": null,
            "grid_auto_flow": null,
            "grid_area": null,
            "grid_template_columns": null,
            "flex": null,
            "_model_name": "LayoutModel",
            "justify_items": null,
            "grid_row": null,
            "max_height": null,
            "align_content": null,
            "visibility": null,
            "align_self": null,
            "height": null,
            "min_height": null,
            "padding": null,
            "grid_auto_rows": null,
            "grid_gap": null,
            "max_width": null,
            "order": null,
            "_view_module_version": "1.2.0",
            "grid_template_areas": null,
            "object_position": null,
            "object_fit": null,
            "grid_auto_columns": null,
            "margin": null,
            "display": null,
            "left": null
          }
        },
        "8f09dd65f7f2468f90573fde3ca74aa5": {
          "model_module": "@jupyter-widgets/controls",
          "model_name": "HBoxModel",
          "model_module_version": "1.5.0",
          "state": {
            "_view_name": "HBoxView",
            "_dom_classes": [],
            "_model_name": "HBoxModel",
            "_view_module": "@jupyter-widgets/controls",
            "_model_module_version": "1.5.0",
            "_view_count": null,
            "_view_module_version": "1.5.0",
            "box_style": "",
            "layout": "IPY_MODEL_042fd5d1f7094bf4b6199f6832c921cc",
            "_model_module": "@jupyter-widgets/controls",
            "children": [
              "IPY_MODEL_81b5feeb6c694144a3578599a9372f8a",
              "IPY_MODEL_3f00788ca1184100b97def90c1e7f6d7",
              "IPY_MODEL_33a050685f5d4245a3ca3e9aaa6884e4"
            ]
          }
        },
        "042fd5d1f7094bf4b6199f6832c921cc": {
          "model_module": "@jupyter-widgets/base",
          "model_name": "LayoutModel",
          "model_module_version": "1.2.0",
          "state": {
            "_view_name": "LayoutView",
            "grid_template_rows": null,
            "right": null,
            "justify_content": null,
            "_view_module": "@jupyter-widgets/base",
            "overflow": null,
            "_model_module_version": "1.2.0",
            "_view_count": null,
            "flex_flow": null,
            "width": null,
            "min_width": null,
            "border": null,
            "align_items": null,
            "bottom": null,
            "_model_module": "@jupyter-widgets/base",
            "top": null,
            "grid_column": null,
            "overflow_y": null,
            "overflow_x": null,
            "grid_auto_flow": null,
            "grid_area": null,
            "grid_template_columns": null,
            "flex": null,
            "_model_name": "LayoutModel",
            "justify_items": null,
            "grid_row": null,
            "max_height": null,
            "align_content": null,
            "visibility": null,
            "align_self": null,
            "height": null,
            "min_height": null,
            "padding": null,
            "grid_auto_rows": null,
            "grid_gap": null,
            "max_width": null,
            "order": null,
            "_view_module_version": "1.2.0",
            "grid_template_areas": null,
            "object_position": null,
            "object_fit": null,
            "grid_auto_columns": null,
            "margin": null,
            "display": null,
            "left": null
          }
        },
        "81b5feeb6c694144a3578599a9372f8a": {
          "model_module": "@jupyter-widgets/controls",
          "model_name": "HTMLModel",
          "model_module_version": "1.5.0",
          "state": {
            "_view_name": "HTMLView",
            "style": "IPY_MODEL_cab0c0aa90614fffbf23c976bb4a2849",
            "_dom_classes": [],
            "description": "",
            "_model_name": "HTMLModel",
            "placeholder": "​",
            "_view_module": "@jupyter-widgets/controls",
            "_model_module_version": "1.5.0",
            "value": "Downloading: 100%",
            "_view_count": null,
            "_view_module_version": "1.5.0",
            "description_tooltip": null,
            "_model_module": "@jupyter-widgets/controls",
            "layout": "IPY_MODEL_c666915bc73f412aa459500ba2056717"
          }
        },
        "3f00788ca1184100b97def90c1e7f6d7": {
          "model_module": "@jupyter-widgets/controls",
          "model_name": "FloatProgressModel",
          "model_module_version": "1.5.0",
          "state": {
            "_view_name": "ProgressView",
            "style": "IPY_MODEL_945957697fd64bfe9de8560b69b43466",
            "_dom_classes": [],
            "description": "",
            "_model_name": "FloatProgressModel",
            "bar_style": "success",
            "max": 231508,
            "_view_module": "@jupyter-widgets/controls",
            "_model_module_version": "1.5.0",
            "value": 231508,
            "_view_count": null,
            "_view_module_version": "1.5.0",
            "orientation": "horizontal",
            "min": 0,
            "description_tooltip": null,
            "_model_module": "@jupyter-widgets/controls",
            "layout": "IPY_MODEL_9c357cec17d84fe38489447150659b62"
          }
        },
        "33a050685f5d4245a3ca3e9aaa6884e4": {
          "model_module": "@jupyter-widgets/controls",
          "model_name": "HTMLModel",
          "model_module_version": "1.5.0",
          "state": {
            "_view_name": "HTMLView",
            "style": "IPY_MODEL_73ad95d403c048739764a7eaf00f523f",
            "_dom_classes": [],
            "description": "",
            "_model_name": "HTMLModel",
            "placeholder": "​",
            "_view_module": "@jupyter-widgets/controls",
            "_model_module_version": "1.5.0",
            "value": " 232k/232k [00:00&lt;00:00, 3.02MB/s]",
            "_view_count": null,
            "_view_module_version": "1.5.0",
            "description_tooltip": null,
            "_model_module": "@jupyter-widgets/controls",
            "layout": "IPY_MODEL_1734693f90c54264bf8e0799899f3b30"
          }
        },
        "cab0c0aa90614fffbf23c976bb4a2849": {
          "model_module": "@jupyter-widgets/controls",
          "model_name": "DescriptionStyleModel",
          "model_module_version": "1.5.0",
          "state": {
            "_view_name": "StyleView",
            "_model_name": "DescriptionStyleModel",
            "description_width": "",
            "_view_module": "@jupyter-widgets/base",
            "_model_module_version": "1.5.0",
            "_view_count": null,
            "_view_module_version": "1.2.0",
            "_model_module": "@jupyter-widgets/controls"
          }
        },
        "c666915bc73f412aa459500ba2056717": {
          "model_module": "@jupyter-widgets/base",
          "model_name": "LayoutModel",
          "model_module_version": "1.2.0",
          "state": {
            "_view_name": "LayoutView",
            "grid_template_rows": null,
            "right": null,
            "justify_content": null,
            "_view_module": "@jupyter-widgets/base",
            "overflow": null,
            "_model_module_version": "1.2.0",
            "_view_count": null,
            "flex_flow": null,
            "width": null,
            "min_width": null,
            "border": null,
            "align_items": null,
            "bottom": null,
            "_model_module": "@jupyter-widgets/base",
            "top": null,
            "grid_column": null,
            "overflow_y": null,
            "overflow_x": null,
            "grid_auto_flow": null,
            "grid_area": null,
            "grid_template_columns": null,
            "flex": null,
            "_model_name": "LayoutModel",
            "justify_items": null,
            "grid_row": null,
            "max_height": null,
            "align_content": null,
            "visibility": null,
            "align_self": null,
            "height": null,
            "min_height": null,
            "padding": null,
            "grid_auto_rows": null,
            "grid_gap": null,
            "max_width": null,
            "order": null,
            "_view_module_version": "1.2.0",
            "grid_template_areas": null,
            "object_position": null,
            "object_fit": null,
            "grid_auto_columns": null,
            "margin": null,
            "display": null,
            "left": null
          }
        },
        "945957697fd64bfe9de8560b69b43466": {
          "model_module": "@jupyter-widgets/controls",
          "model_name": "ProgressStyleModel",
          "model_module_version": "1.5.0",
          "state": {
            "_view_name": "StyleView",
            "_model_name": "ProgressStyleModel",
            "description_width": "",
            "_view_module": "@jupyter-widgets/base",
            "_model_module_version": "1.5.0",
            "_view_count": null,
            "_view_module_version": "1.2.0",
            "bar_color": null,
            "_model_module": "@jupyter-widgets/controls"
          }
        },
        "9c357cec17d84fe38489447150659b62": {
          "model_module": "@jupyter-widgets/base",
          "model_name": "LayoutModel",
          "model_module_version": "1.2.0",
          "state": {
            "_view_name": "LayoutView",
            "grid_template_rows": null,
            "right": null,
            "justify_content": null,
            "_view_module": "@jupyter-widgets/base",
            "overflow": null,
            "_model_module_version": "1.2.0",
            "_view_count": null,
            "flex_flow": null,
            "width": null,
            "min_width": null,
            "border": null,
            "align_items": null,
            "bottom": null,
            "_model_module": "@jupyter-widgets/base",
            "top": null,
            "grid_column": null,
            "overflow_y": null,
            "overflow_x": null,
            "grid_auto_flow": null,
            "grid_area": null,
            "grid_template_columns": null,
            "flex": null,
            "_model_name": "LayoutModel",
            "justify_items": null,
            "grid_row": null,
            "max_height": null,
            "align_content": null,
            "visibility": null,
            "align_self": null,
            "height": null,
            "min_height": null,
            "padding": null,
            "grid_auto_rows": null,
            "grid_gap": null,
            "max_width": null,
            "order": null,
            "_view_module_version": "1.2.0",
            "grid_template_areas": null,
            "object_position": null,
            "object_fit": null,
            "grid_auto_columns": null,
            "margin": null,
            "display": null,
            "left": null
          }
        },
        "73ad95d403c048739764a7eaf00f523f": {
          "model_module": "@jupyter-widgets/controls",
          "model_name": "DescriptionStyleModel",
          "model_module_version": "1.5.0",
          "state": {
            "_view_name": "StyleView",
            "_model_name": "DescriptionStyleModel",
            "description_width": "",
            "_view_module": "@jupyter-widgets/base",
            "_model_module_version": "1.5.0",
            "_view_count": null,
            "_view_module_version": "1.2.0",
            "_model_module": "@jupyter-widgets/controls"
          }
        },
        "1734693f90c54264bf8e0799899f3b30": {
          "model_module": "@jupyter-widgets/base",
          "model_name": "LayoutModel",
          "model_module_version": "1.2.0",
          "state": {
            "_view_name": "LayoutView",
            "grid_template_rows": null,
            "right": null,
            "justify_content": null,
            "_view_module": "@jupyter-widgets/base",
            "overflow": null,
            "_model_module_version": "1.2.0",
            "_view_count": null,
            "flex_flow": null,
            "width": null,
            "min_width": null,
            "border": null,
            "align_items": null,
            "bottom": null,
            "_model_module": "@jupyter-widgets/base",
            "top": null,
            "grid_column": null,
            "overflow_y": null,
            "overflow_x": null,
            "grid_auto_flow": null,
            "grid_area": null,
            "grid_template_columns": null,
            "flex": null,
            "_model_name": "LayoutModel",
            "justify_items": null,
            "grid_row": null,
            "max_height": null,
            "align_content": null,
            "visibility": null,
            "align_self": null,
            "height": null,
            "min_height": null,
            "padding": null,
            "grid_auto_rows": null,
            "grid_gap": null,
            "max_width": null,
            "order": null,
            "_view_module_version": "1.2.0",
            "grid_template_areas": null,
            "object_position": null,
            "object_fit": null,
            "grid_auto_columns": null,
            "margin": null,
            "display": null,
            "left": null
          }
        },
        "bbb23089ca4b4fba8e0cc63e52f1369a": {
          "model_module": "@jupyter-widgets/controls",
          "model_name": "HBoxModel",
          "model_module_version": "1.5.0",
          "state": {
            "_view_name": "HBoxView",
            "_dom_classes": [],
            "_model_name": "HBoxModel",
            "_view_module": "@jupyter-widgets/controls",
            "_model_module_version": "1.5.0",
            "_view_count": null,
            "_view_module_version": "1.5.0",
            "box_style": "",
            "layout": "IPY_MODEL_7447b225f0614c448d99bf055a1ec90d",
            "_model_module": "@jupyter-widgets/controls",
            "children": [
              "IPY_MODEL_9f792094cc234be19f74a53e65e5fcaf",
              "IPY_MODEL_1f50d6d40faf45048267aab822c2ae3f",
              "IPY_MODEL_cfc0465fab874ed7bbdd8e87566b32d8"
            ]
          }
        },
        "7447b225f0614c448d99bf055a1ec90d": {
          "model_module": "@jupyter-widgets/base",
          "model_name": "LayoutModel",
          "model_module_version": "1.2.0",
          "state": {
            "_view_name": "LayoutView",
            "grid_template_rows": null,
            "right": null,
            "justify_content": null,
            "_view_module": "@jupyter-widgets/base",
            "overflow": null,
            "_model_module_version": "1.2.0",
            "_view_count": null,
            "flex_flow": null,
            "width": null,
            "min_width": null,
            "border": null,
            "align_items": null,
            "bottom": null,
            "_model_module": "@jupyter-widgets/base",
            "top": null,
            "grid_column": null,
            "overflow_y": null,
            "overflow_x": null,
            "grid_auto_flow": null,
            "grid_area": null,
            "grid_template_columns": null,
            "flex": null,
            "_model_name": "LayoutModel",
            "justify_items": null,
            "grid_row": null,
            "max_height": null,
            "align_content": null,
            "visibility": null,
            "align_self": null,
            "height": null,
            "min_height": null,
            "padding": null,
            "grid_auto_rows": null,
            "grid_gap": null,
            "max_width": null,
            "order": null,
            "_view_module_version": "1.2.0",
            "grid_template_areas": null,
            "object_position": null,
            "object_fit": null,
            "grid_auto_columns": null,
            "margin": null,
            "display": null,
            "left": null
          }
        },
        "9f792094cc234be19f74a53e65e5fcaf": {
          "model_module": "@jupyter-widgets/controls",
          "model_name": "HTMLModel",
          "model_module_version": "1.5.0",
          "state": {
            "_view_name": "HTMLView",
            "style": "IPY_MODEL_b29be6510d0947a78111217680ab5158",
            "_dom_classes": [],
            "description": "",
            "_model_name": "HTMLModel",
            "placeholder": "​",
            "_view_module": "@jupyter-widgets/controls",
            "_model_module_version": "1.5.0",
            "value": "Downloading: 100%",
            "_view_count": null,
            "_view_module_version": "1.5.0",
            "description_tooltip": null,
            "_model_module": "@jupyter-widgets/controls",
            "layout": "IPY_MODEL_6639cdc5045d4f4394b04868b0a3211d"
          }
        },
        "1f50d6d40faf45048267aab822c2ae3f": {
          "model_module": "@jupyter-widgets/controls",
          "model_name": "FloatProgressModel",
          "model_module_version": "1.5.0",
          "state": {
            "_view_name": "ProgressView",
            "style": "IPY_MODEL_490409f1e3e44aa9a9d4fcead21e5f8b",
            "_dom_classes": [],
            "description": "",
            "_model_name": "FloatProgressModel",
            "bar_style": "success",
            "max": 466062,
            "_view_module": "@jupyter-widgets/controls",
            "_model_module_version": "1.5.0",
            "value": 466062,
            "_view_count": null,
            "_view_module_version": "1.5.0",
            "orientation": "horizontal",
            "min": 0,
            "description_tooltip": null,
            "_model_module": "@jupyter-widgets/controls",
            "layout": "IPY_MODEL_4e1bdba578814c998691eb2c8ccdc1cb"
          }
        },
        "cfc0465fab874ed7bbdd8e87566b32d8": {
          "model_module": "@jupyter-widgets/controls",
          "model_name": "HTMLModel",
          "model_module_version": "1.5.0",
          "state": {
            "_view_name": "HTMLView",
            "style": "IPY_MODEL_7adb142854e641dca213f365672f6195",
            "_dom_classes": [],
            "description": "",
            "_model_name": "HTMLModel",
            "placeholder": "​",
            "_view_module": "@jupyter-widgets/controls",
            "_model_module_version": "1.5.0",
            "value": " 466k/466k [00:00&lt;00:00, 4.71MB/s]",
            "_view_count": null,
            "_view_module_version": "1.5.0",
            "description_tooltip": null,
            "_model_module": "@jupyter-widgets/controls",
            "layout": "IPY_MODEL_2e79a8dff5a24ac08425de44150f1af5"
          }
        },
        "b29be6510d0947a78111217680ab5158": {
          "model_module": "@jupyter-widgets/controls",
          "model_name": "DescriptionStyleModel",
          "model_module_version": "1.5.0",
          "state": {
            "_view_name": "StyleView",
            "_model_name": "DescriptionStyleModel",
            "description_width": "",
            "_view_module": "@jupyter-widgets/base",
            "_model_module_version": "1.5.0",
            "_view_count": null,
            "_view_module_version": "1.2.0",
            "_model_module": "@jupyter-widgets/controls"
          }
        },
        "6639cdc5045d4f4394b04868b0a3211d": {
          "model_module": "@jupyter-widgets/base",
          "model_name": "LayoutModel",
          "model_module_version": "1.2.0",
          "state": {
            "_view_name": "LayoutView",
            "grid_template_rows": null,
            "right": null,
            "justify_content": null,
            "_view_module": "@jupyter-widgets/base",
            "overflow": null,
            "_model_module_version": "1.2.0",
            "_view_count": null,
            "flex_flow": null,
            "width": null,
            "min_width": null,
            "border": null,
            "align_items": null,
            "bottom": null,
            "_model_module": "@jupyter-widgets/base",
            "top": null,
            "grid_column": null,
            "overflow_y": null,
            "overflow_x": null,
            "grid_auto_flow": null,
            "grid_area": null,
            "grid_template_columns": null,
            "flex": null,
            "_model_name": "LayoutModel",
            "justify_items": null,
            "grid_row": null,
            "max_height": null,
            "align_content": null,
            "visibility": null,
            "align_self": null,
            "height": null,
            "min_height": null,
            "padding": null,
            "grid_auto_rows": null,
            "grid_gap": null,
            "max_width": null,
            "order": null,
            "_view_module_version": "1.2.0",
            "grid_template_areas": null,
            "object_position": null,
            "object_fit": null,
            "grid_auto_columns": null,
            "margin": null,
            "display": null,
            "left": null
          }
        },
        "490409f1e3e44aa9a9d4fcead21e5f8b": {
          "model_module": "@jupyter-widgets/controls",
          "model_name": "ProgressStyleModel",
          "model_module_version": "1.5.0",
          "state": {
            "_view_name": "StyleView",
            "_model_name": "ProgressStyleModel",
            "description_width": "",
            "_view_module": "@jupyter-widgets/base",
            "_model_module_version": "1.5.0",
            "_view_count": null,
            "_view_module_version": "1.2.0",
            "bar_color": null,
            "_model_module": "@jupyter-widgets/controls"
          }
        },
        "4e1bdba578814c998691eb2c8ccdc1cb": {
          "model_module": "@jupyter-widgets/base",
          "model_name": "LayoutModel",
          "model_module_version": "1.2.0",
          "state": {
            "_view_name": "LayoutView",
            "grid_template_rows": null,
            "right": null,
            "justify_content": null,
            "_view_module": "@jupyter-widgets/base",
            "overflow": null,
            "_model_module_version": "1.2.0",
            "_view_count": null,
            "flex_flow": null,
            "width": null,
            "min_width": null,
            "border": null,
            "align_items": null,
            "bottom": null,
            "_model_module": "@jupyter-widgets/base",
            "top": null,
            "grid_column": null,
            "overflow_y": null,
            "overflow_x": null,
            "grid_auto_flow": null,
            "grid_area": null,
            "grid_template_columns": null,
            "flex": null,
            "_model_name": "LayoutModel",
            "justify_items": null,
            "grid_row": null,
            "max_height": null,
            "align_content": null,
            "visibility": null,
            "align_self": null,
            "height": null,
            "min_height": null,
            "padding": null,
            "grid_auto_rows": null,
            "grid_gap": null,
            "max_width": null,
            "order": null,
            "_view_module_version": "1.2.0",
            "grid_template_areas": null,
            "object_position": null,
            "object_fit": null,
            "grid_auto_columns": null,
            "margin": null,
            "display": null,
            "left": null
          }
        },
        "7adb142854e641dca213f365672f6195": {
          "model_module": "@jupyter-widgets/controls",
          "model_name": "DescriptionStyleModel",
          "model_module_version": "1.5.0",
          "state": {
            "_view_name": "StyleView",
            "_model_name": "DescriptionStyleModel",
            "description_width": "",
            "_view_module": "@jupyter-widgets/base",
            "_model_module_version": "1.5.0",
            "_view_count": null,
            "_view_module_version": "1.2.0",
            "_model_module": "@jupyter-widgets/controls"
          }
        },
        "2e79a8dff5a24ac08425de44150f1af5": {
          "model_module": "@jupyter-widgets/base",
          "model_name": "LayoutModel",
          "model_module_version": "1.2.0",
          "state": {
            "_view_name": "LayoutView",
            "grid_template_rows": null,
            "right": null,
            "justify_content": null,
            "_view_module": "@jupyter-widgets/base",
            "overflow": null,
            "_model_module_version": "1.2.0",
            "_view_count": null,
            "flex_flow": null,
            "width": null,
            "min_width": null,
            "border": null,
            "align_items": null,
            "bottom": null,
            "_model_module": "@jupyter-widgets/base",
            "top": null,
            "grid_column": null,
            "overflow_y": null,
            "overflow_x": null,
            "grid_auto_flow": null,
            "grid_area": null,
            "grid_template_columns": null,
            "flex": null,
            "_model_name": "LayoutModel",
            "justify_items": null,
            "grid_row": null,
            "max_height": null,
            "align_content": null,
            "visibility": null,
            "align_self": null,
            "height": null,
            "min_height": null,
            "padding": null,
            "grid_auto_rows": null,
            "grid_gap": null,
            "max_width": null,
            "order": null,
            "_view_module_version": "1.2.0",
            "grid_template_areas": null,
            "object_position": null,
            "object_fit": null,
            "grid_auto_columns": null,
            "margin": null,
            "display": null,
            "left": null
          }
        },
        "4f941c2bd80640a68c230bddc71fcf93": {
          "model_module": "@jupyter-widgets/controls",
          "model_name": "HBoxModel",
          "model_module_version": "1.5.0",
          "state": {
            "_view_name": "HBoxView",
            "_dom_classes": [],
            "_model_name": "HBoxModel",
            "_view_module": "@jupyter-widgets/controls",
            "_model_module_version": "1.5.0",
            "_view_count": null,
            "_view_module_version": "1.5.0",
            "box_style": "",
            "layout": "IPY_MODEL_07e6cf7b906344d0a482bbf4d1f35688",
            "_model_module": "@jupyter-widgets/controls",
            "children": [
              "IPY_MODEL_48c2e6f37e674e4fa176b35ad12433df",
              "IPY_MODEL_c3fa53654e2e4a46a1975506df28237e",
              "IPY_MODEL_ff743d1b1bd14f66bc234ad44e4c62c4"
            ]
          }
        },
        "07e6cf7b906344d0a482bbf4d1f35688": {
          "model_module": "@jupyter-widgets/base",
          "model_name": "LayoutModel",
          "model_module_version": "1.2.0",
          "state": {
            "_view_name": "LayoutView",
            "grid_template_rows": null,
            "right": null,
            "justify_content": null,
            "_view_module": "@jupyter-widgets/base",
            "overflow": null,
            "_model_module_version": "1.2.0",
            "_view_count": null,
            "flex_flow": null,
            "width": null,
            "min_width": null,
            "border": null,
            "align_items": null,
            "bottom": null,
            "_model_module": "@jupyter-widgets/base",
            "top": null,
            "grid_column": null,
            "overflow_y": null,
            "overflow_x": null,
            "grid_auto_flow": null,
            "grid_area": null,
            "grid_template_columns": null,
            "flex": null,
            "_model_name": "LayoutModel",
            "justify_items": null,
            "grid_row": null,
            "max_height": null,
            "align_content": null,
            "visibility": null,
            "align_self": null,
            "height": null,
            "min_height": null,
            "padding": null,
            "grid_auto_rows": null,
            "grid_gap": null,
            "max_width": null,
            "order": null,
            "_view_module_version": "1.2.0",
            "grid_template_areas": null,
            "object_position": null,
            "object_fit": null,
            "grid_auto_columns": null,
            "margin": null,
            "display": null,
            "left": null
          }
        },
        "48c2e6f37e674e4fa176b35ad12433df": {
          "model_module": "@jupyter-widgets/controls",
          "model_name": "HTMLModel",
          "model_module_version": "1.5.0",
          "state": {
            "_view_name": "HTMLView",
            "style": "IPY_MODEL_d2bdc05790df4e588e478ad69d880f7a",
            "_dom_classes": [],
            "description": "",
            "_model_name": "HTMLModel",
            "placeholder": "​",
            "_view_module": "@jupyter-widgets/controls",
            "_model_module_version": "1.5.0",
            "value": "Downloading: 100%",
            "_view_count": null,
            "_view_module_version": "1.5.0",
            "description_tooltip": null,
            "_model_module": "@jupyter-widgets/controls",
            "layout": "IPY_MODEL_a3de42110f0f4fef99072b51c8c12b1c"
          }
        },
        "c3fa53654e2e4a46a1975506df28237e": {
          "model_module": "@jupyter-widgets/controls",
          "model_name": "FloatProgressModel",
          "model_module_version": "1.5.0",
          "state": {
            "_view_name": "ProgressView",
            "style": "IPY_MODEL_8ba2193e39cd4cc19a7bb846f697b563",
            "_dom_classes": [],
            "description": "",
            "_model_name": "FloatProgressModel",
            "bar_style": "success",
            "max": 442,
            "_view_module": "@jupyter-widgets/controls",
            "_model_module_version": "1.5.0",
            "value": 442,
            "_view_count": null,
            "_view_module_version": "1.5.0",
            "orientation": "horizontal",
            "min": 0,
            "description_tooltip": null,
            "_model_module": "@jupyter-widgets/controls",
            "layout": "IPY_MODEL_84c162ee98ab46a2bc2492dad9031315"
          }
        },
        "ff743d1b1bd14f66bc234ad44e4c62c4": {
          "model_module": "@jupyter-widgets/controls",
          "model_name": "HTMLModel",
          "model_module_version": "1.5.0",
          "state": {
            "_view_name": "HTMLView",
            "style": "IPY_MODEL_8248aeffbd944dc1a0b1de952368f2ba",
            "_dom_classes": [],
            "description": "",
            "_model_name": "HTMLModel",
            "placeholder": "​",
            "_view_module": "@jupyter-widgets/controls",
            "_model_module_version": "1.5.0",
            "value": " 442/442 [00:00&lt;00:00, 8.22kB/s]",
            "_view_count": null,
            "_view_module_version": "1.5.0",
            "description_tooltip": null,
            "_model_module": "@jupyter-widgets/controls",
            "layout": "IPY_MODEL_78fc49abad7243bd933d1bbe20712ded"
          }
        },
        "d2bdc05790df4e588e478ad69d880f7a": {
          "model_module": "@jupyter-widgets/controls",
          "model_name": "DescriptionStyleModel",
          "model_module_version": "1.5.0",
          "state": {
            "_view_name": "StyleView",
            "_model_name": "DescriptionStyleModel",
            "description_width": "",
            "_view_module": "@jupyter-widgets/base",
            "_model_module_version": "1.5.0",
            "_view_count": null,
            "_view_module_version": "1.2.0",
            "_model_module": "@jupyter-widgets/controls"
          }
        },
        "a3de42110f0f4fef99072b51c8c12b1c": {
          "model_module": "@jupyter-widgets/base",
          "model_name": "LayoutModel",
          "model_module_version": "1.2.0",
          "state": {
            "_view_name": "LayoutView",
            "grid_template_rows": null,
            "right": null,
            "justify_content": null,
            "_view_module": "@jupyter-widgets/base",
            "overflow": null,
            "_model_module_version": "1.2.0",
            "_view_count": null,
            "flex_flow": null,
            "width": null,
            "min_width": null,
            "border": null,
            "align_items": null,
            "bottom": null,
            "_model_module": "@jupyter-widgets/base",
            "top": null,
            "grid_column": null,
            "overflow_y": null,
            "overflow_x": null,
            "grid_auto_flow": null,
            "grid_area": null,
            "grid_template_columns": null,
            "flex": null,
            "_model_name": "LayoutModel",
            "justify_items": null,
            "grid_row": null,
            "max_height": null,
            "align_content": null,
            "visibility": null,
            "align_self": null,
            "height": null,
            "min_height": null,
            "padding": null,
            "grid_auto_rows": null,
            "grid_gap": null,
            "max_width": null,
            "order": null,
            "_view_module_version": "1.2.0",
            "grid_template_areas": null,
            "object_position": null,
            "object_fit": null,
            "grid_auto_columns": null,
            "margin": null,
            "display": null,
            "left": null
          }
        },
        "8ba2193e39cd4cc19a7bb846f697b563": {
          "model_module": "@jupyter-widgets/controls",
          "model_name": "ProgressStyleModel",
          "model_module_version": "1.5.0",
          "state": {
            "_view_name": "StyleView",
            "_model_name": "ProgressStyleModel",
            "description_width": "",
            "_view_module": "@jupyter-widgets/base",
            "_model_module_version": "1.5.0",
            "_view_count": null,
            "_view_module_version": "1.2.0",
            "bar_color": null,
            "_model_module": "@jupyter-widgets/controls"
          }
        },
        "84c162ee98ab46a2bc2492dad9031315": {
          "model_module": "@jupyter-widgets/base",
          "model_name": "LayoutModel",
          "model_module_version": "1.2.0",
          "state": {
            "_view_name": "LayoutView",
            "grid_template_rows": null,
            "right": null,
            "justify_content": null,
            "_view_module": "@jupyter-widgets/base",
            "overflow": null,
            "_model_module_version": "1.2.0",
            "_view_count": null,
            "flex_flow": null,
            "width": null,
            "min_width": null,
            "border": null,
            "align_items": null,
            "bottom": null,
            "_model_module": "@jupyter-widgets/base",
            "top": null,
            "grid_column": null,
            "overflow_y": null,
            "overflow_x": null,
            "grid_auto_flow": null,
            "grid_area": null,
            "grid_template_columns": null,
            "flex": null,
            "_model_name": "LayoutModel",
            "justify_items": null,
            "grid_row": null,
            "max_height": null,
            "align_content": null,
            "visibility": null,
            "align_self": null,
            "height": null,
            "min_height": null,
            "padding": null,
            "grid_auto_rows": null,
            "grid_gap": null,
            "max_width": null,
            "order": null,
            "_view_module_version": "1.2.0",
            "grid_template_areas": null,
            "object_position": null,
            "object_fit": null,
            "grid_auto_columns": null,
            "margin": null,
            "display": null,
            "left": null
          }
        },
        "8248aeffbd944dc1a0b1de952368f2ba": {
          "model_module": "@jupyter-widgets/controls",
          "model_name": "DescriptionStyleModel",
          "model_module_version": "1.5.0",
          "state": {
            "_view_name": "StyleView",
            "_model_name": "DescriptionStyleModel",
            "description_width": "",
            "_view_module": "@jupyter-widgets/base",
            "_model_module_version": "1.5.0",
            "_view_count": null,
            "_view_module_version": "1.2.0",
            "_model_module": "@jupyter-widgets/controls"
          }
        },
        "78fc49abad7243bd933d1bbe20712ded": {
          "model_module": "@jupyter-widgets/base",
          "model_name": "LayoutModel",
          "model_module_version": "1.2.0",
          "state": {
            "_view_name": "LayoutView",
            "grid_template_rows": null,
            "right": null,
            "justify_content": null,
            "_view_module": "@jupyter-widgets/base",
            "overflow": null,
            "_model_module_version": "1.2.0",
            "_view_count": null,
            "flex_flow": null,
            "width": null,
            "min_width": null,
            "border": null,
            "align_items": null,
            "bottom": null,
            "_model_module": "@jupyter-widgets/base",
            "top": null,
            "grid_column": null,
            "overflow_y": null,
            "overflow_x": null,
            "grid_auto_flow": null,
            "grid_area": null,
            "grid_template_columns": null,
            "flex": null,
            "_model_name": "LayoutModel",
            "justify_items": null,
            "grid_row": null,
            "max_height": null,
            "align_content": null,
            "visibility": null,
            "align_self": null,
            "height": null,
            "min_height": null,
            "padding": null,
            "grid_auto_rows": null,
            "grid_gap": null,
            "max_width": null,
            "order": null,
            "_view_module_version": "1.2.0",
            "grid_template_areas": null,
            "object_position": null,
            "object_fit": null,
            "grid_auto_columns": null,
            "margin": null,
            "display": null,
            "left": null
          }
        }
      }
    }
  },
  "cells": [
    {
      "cell_type": "markdown",
      "metadata": {
        "id": "k17KN8595EjY"
      },
      "source": [
        "https://www.analyticsvidhya.com/blog/2021/06/rule-based-sentiment-analysis-in-python/"
      ]
    },
    {
      "cell_type": "code",
      "metadata": {
        "colab": {
          "base_uri": "https://localhost:8080/"
        },
        "id": "-qYQFNkfLNh6",
        "outputId": "59b396bc-6ba5-4a10-d78e-339621f7bec3"
      },
      "source": [
        "pip install flair"
      ],
      "execution_count": 2,
      "outputs": [
        {
          "output_type": "stream",
          "text": [
            "Collecting flair\n",
            "  Downloading flair-0.8.0.post1-py3-none-any.whl (284 kB)\n",
            "\u001b[?25l\r\u001b[K     |█▏                              | 10 kB 28.1 MB/s eta 0:00:01\r\u001b[K     |██▎                             | 20 kB 26.4 MB/s eta 0:00:01\r\u001b[K     |███▌                            | 30 kB 12.2 MB/s eta 0:00:01\r\u001b[K     |████▋                           | 40 kB 9.4 MB/s eta 0:00:01\r\u001b[K     |█████▊                          | 51 kB 4.9 MB/s eta 0:00:01\r\u001b[K     |███████                         | 61 kB 5.4 MB/s eta 0:00:01\r\u001b[K     |████████                        | 71 kB 5.5 MB/s eta 0:00:01\r\u001b[K     |█████████▏                      | 81 kB 6.2 MB/s eta 0:00:01\r\u001b[K     |██████████▍                     | 92 kB 4.7 MB/s eta 0:00:01\r\u001b[K     |███████████▌                    | 102 kB 5.1 MB/s eta 0:00:01\r\u001b[K     |████████████▋                   | 112 kB 5.1 MB/s eta 0:00:01\r\u001b[K     |█████████████▉                  | 122 kB 5.1 MB/s eta 0:00:01\r\u001b[K     |███████████████                 | 133 kB 5.1 MB/s eta 0:00:01\r\u001b[K     |████████████████                | 143 kB 5.1 MB/s eta 0:00:01\r\u001b[K     |█████████████████▎              | 153 kB 5.1 MB/s eta 0:00:01\r\u001b[K     |██████████████████▍             | 163 kB 5.1 MB/s eta 0:00:01\r\u001b[K     |███████████████████▋            | 174 kB 5.1 MB/s eta 0:00:01\r\u001b[K     |████████████████████▊           | 184 kB 5.1 MB/s eta 0:00:01\r\u001b[K     |█████████████████████▉          | 194 kB 5.1 MB/s eta 0:00:01\r\u001b[K     |███████████████████████         | 204 kB 5.1 MB/s eta 0:00:01\r\u001b[K     |████████████████████████▏       | 215 kB 5.1 MB/s eta 0:00:01\r\u001b[K     |█████████████████████████▎      | 225 kB 5.1 MB/s eta 0:00:01\r\u001b[K     |██████████████████████████▌     | 235 kB 5.1 MB/s eta 0:00:01\r\u001b[K     |███████████████████████████▋    | 245 kB 5.1 MB/s eta 0:00:01\r\u001b[K     |████████████████████████████▊   | 256 kB 5.1 MB/s eta 0:00:01\r\u001b[K     |██████████████████████████████  | 266 kB 5.1 MB/s eta 0:00:01\r\u001b[K     |███████████████████████████████ | 276 kB 5.1 MB/s eta 0:00:01\r\u001b[K     |████████████████████████████████| 284 kB 5.1 MB/s \n",
            "\u001b[?25hRequirement already satisfied: python-dateutil>=2.6.1 in /usr/local/lib/python3.7/dist-packages (from flair) (2.8.2)\n",
            "Collecting sentencepiece==0.1.95\n",
            "  Downloading sentencepiece-0.1.95-cp37-cp37m-manylinux2014_x86_64.whl (1.2 MB)\n",
            "\u001b[K     |████████████████████████████████| 1.2 MB 31.8 MB/s \n",
            "\u001b[?25hRequirement already satisfied: scikit-learn>=0.21.3 in /usr/local/lib/python3.7/dist-packages (from flair) (0.22.2.post1)\n",
            "Collecting mpld3==0.3\n",
            "  Downloading mpld3-0.3.tar.gz (788 kB)\n",
            "\u001b[K     |████████████████████████████████| 788 kB 34.0 MB/s \n",
            "\u001b[?25hRequirement already satisfied: matplotlib>=2.2.3 in /usr/local/lib/python3.7/dist-packages (from flair) (3.2.2)\n",
            "Collecting deprecated>=1.2.4\n",
            "  Downloading Deprecated-1.2.12-py2.py3-none-any.whl (9.5 kB)\n",
            "Requirement already satisfied: lxml in /usr/local/lib/python3.7/dist-packages (from flair) (4.2.6)\n",
            "Requirement already satisfied: numpy<1.20.0 in /usr/local/lib/python3.7/dist-packages (from flair) (1.19.5)\n",
            "Collecting langdetect\n",
            "  Downloading langdetect-1.0.9.tar.gz (981 kB)\n",
            "\u001b[K     |████████████████████████████████| 981 kB 43.4 MB/s \n",
            "\u001b[?25hRequirement already satisfied: tqdm>=4.26.0 in /usr/local/lib/python3.7/dist-packages (from flair) (4.62.0)\n",
            "Requirement already satisfied: gensim<=3.8.3,>=3.4.0 in /usr/local/lib/python3.7/dist-packages (from flair) (3.6.0)\n",
            "Requirement already satisfied: hyperopt>=0.1.1 in /usr/local/lib/python3.7/dist-packages (from flair) (0.1.2)\n",
            "Collecting segtok>=1.5.7\n",
            "  Downloading segtok-1.5.10.tar.gz (25 kB)\n",
            "Collecting torch<=1.7.1,>=1.5.0\n",
            "  Downloading torch-1.7.1-cp37-cp37m-manylinux1_x86_64.whl (776.8 MB)\n",
            "\u001b[K     |████████████████████████████████| 776.8 MB 17 kB/s \n",
            "\u001b[?25hCollecting konoha<5.0.0,>=4.0.0\n",
            "  Downloading konoha-4.6.5-py3-none-any.whl (20 kB)\n",
            "Collecting ftfy\n",
            "  Downloading ftfy-6.0.3.tar.gz (64 kB)\n",
            "\u001b[K     |████████████████████████████████| 64 kB 3.0 MB/s \n",
            "\u001b[?25hCollecting janome\n",
            "  Downloading Janome-0.4.1-py2.py3-none-any.whl (19.7 MB)\n",
            "\u001b[K     |████████████████████████████████| 19.7 MB 1.2 MB/s \n",
            "\u001b[?25hCollecting transformers>=4.0.0\n",
            "  Downloading transformers-4.9.2-py3-none-any.whl (2.6 MB)\n",
            "\u001b[K     |████████████████████████████████| 2.6 MB 75.0 MB/s \n",
            "\u001b[?25hCollecting huggingface-hub\n",
            "  Downloading huggingface_hub-0.0.15-py3-none-any.whl (43 kB)\n",
            "\u001b[K     |████████████████████████████████| 43 kB 2.3 MB/s \n",
            "\u001b[?25hRequirement already satisfied: regex in /usr/local/lib/python3.7/dist-packages (from flair) (2019.12.20)\n",
            "Collecting sqlitedict>=1.6.0\n",
            "  Downloading sqlitedict-1.7.0.tar.gz (28 kB)\n",
            "Collecting bpemb>=0.3.2\n",
            "  Downloading bpemb-0.3.3-py3-none-any.whl (19 kB)\n",
            "Requirement already satisfied: tabulate in /usr/local/lib/python3.7/dist-packages (from flair) (0.8.9)\n",
            "Collecting gdown==3.12.2\n",
            "  Downloading gdown-3.12.2.tar.gz (8.2 kB)\n",
            "  Installing build dependencies ... \u001b[?25l\u001b[?25hdone\n",
            "  Getting requirements to build wheel ... \u001b[?25l\u001b[?25hdone\n",
            "    Preparing wheel metadata ... \u001b[?25l\u001b[?25hdone\n",
            "Requirement already satisfied: six in /usr/local/lib/python3.7/dist-packages (from gdown==3.12.2->flair) (1.15.0)\n",
            "Requirement already satisfied: filelock in /usr/local/lib/python3.7/dist-packages (from gdown==3.12.2->flair) (3.0.12)\n",
            "Requirement already satisfied: requests[socks] in /usr/local/lib/python3.7/dist-packages (from gdown==3.12.2->flair) (2.23.0)\n",
            "Requirement already satisfied: wrapt<2,>=1.10 in /usr/local/lib/python3.7/dist-packages (from deprecated>=1.2.4->flair) (1.12.1)\n",
            "Requirement already satisfied: scipy>=0.18.1 in /usr/local/lib/python3.7/dist-packages (from gensim<=3.8.3,>=3.4.0->flair) (1.4.1)\n",
            "Requirement already satisfied: smart-open>=1.2.1 in /usr/local/lib/python3.7/dist-packages (from gensim<=3.8.3,>=3.4.0->flair) (5.1.0)\n",
            "Requirement already satisfied: pymongo in /usr/local/lib/python3.7/dist-packages (from hyperopt>=0.1.1->flair) (3.12.0)\n",
            "Requirement already satisfied: future in /usr/local/lib/python3.7/dist-packages (from hyperopt>=0.1.1->flair) (0.16.0)\n",
            "Requirement already satisfied: networkx in /usr/local/lib/python3.7/dist-packages (from hyperopt>=0.1.1->flair) (2.6.2)\n",
            "Collecting importlib-metadata<4.0.0,>=3.7.0\n",
            "  Downloading importlib_metadata-3.10.1-py3-none-any.whl (14 kB)\n",
            "Collecting requests\n",
            "  Downloading requests-2.26.0-py2.py3-none-any.whl (62 kB)\n",
            "\u001b[K     |████████████████████████████████| 62 kB 893 kB/s \n",
            "\u001b[?25hCollecting overrides<4.0.0,>=3.0.0\n",
            "  Downloading overrides-3.1.0.tar.gz (11 kB)\n",
            "Requirement already satisfied: zipp>=0.5 in /usr/local/lib/python3.7/dist-packages (from importlib-metadata<4.0.0,>=3.7.0->konoha<5.0.0,>=4.0.0->flair) (3.5.0)\n",
            "Requirement already satisfied: typing-extensions>=3.6.4 in /usr/local/lib/python3.7/dist-packages (from importlib-metadata<4.0.0,>=3.7.0->konoha<5.0.0,>=4.0.0->flair) (3.7.4.3)\n",
            "Requirement already satisfied: kiwisolver>=1.0.1 in /usr/local/lib/python3.7/dist-packages (from matplotlib>=2.2.3->flair) (1.3.1)\n",
            "Requirement already satisfied: cycler>=0.10 in /usr/local/lib/python3.7/dist-packages (from matplotlib>=2.2.3->flair) (0.10.0)\n",
            "Requirement already satisfied: pyparsing!=2.0.4,!=2.1.2,!=2.1.6,>=2.0.1 in /usr/local/lib/python3.7/dist-packages (from matplotlib>=2.2.3->flair) (2.4.7)\n",
            "Requirement already satisfied: charset-normalizer~=2.0.0 in /usr/local/lib/python3.7/dist-packages (from requests->bpemb>=0.3.2->flair) (2.0.4)\n",
            "Requirement already satisfied: certifi>=2017.4.17 in /usr/local/lib/python3.7/dist-packages (from requests->bpemb>=0.3.2->flair) (2021.5.30)\n",
            "Requirement already satisfied: urllib3<1.27,>=1.21.1 in /usr/local/lib/python3.7/dist-packages (from requests->bpemb>=0.3.2->flair) (1.24.3)\n",
            "Requirement already satisfied: idna<4,>=2.5 in /usr/local/lib/python3.7/dist-packages (from requests->bpemb>=0.3.2->flair) (2.10)\n",
            "Requirement already satisfied: joblib>=0.11 in /usr/local/lib/python3.7/dist-packages (from scikit-learn>=0.21.3->flair) (1.0.1)\n",
            "Collecting tokenizers<0.11,>=0.10.1\n",
            "  Downloading tokenizers-0.10.3-cp37-cp37m-manylinux_2_5_x86_64.manylinux1_x86_64.manylinux_2_12_x86_64.manylinux2010_x86_64.whl (3.3 MB)\n",
            "\u001b[K     |████████████████████████████████| 3.3 MB 30.6 MB/s \n",
            "\u001b[?25hCollecting pyyaml>=5.1\n",
            "  Downloading PyYAML-5.4.1-cp37-cp37m-manylinux1_x86_64.whl (636 kB)\n",
            "\u001b[K     |████████████████████████████████| 636 kB 43.8 MB/s \n",
            "\u001b[?25hCollecting sacremoses\n",
            "  Downloading sacremoses-0.0.45-py3-none-any.whl (895 kB)\n",
            "\u001b[K     |████████████████████████████████| 895 kB 62.2 MB/s \n",
            "\u001b[?25hCollecting huggingface-hub\n",
            "  Downloading huggingface_hub-0.0.12-py3-none-any.whl (37 kB)\n",
            "Requirement already satisfied: packaging in /usr/local/lib/python3.7/dist-packages (from transformers>=4.0.0->flair) (21.0)\n",
            "Requirement already satisfied: wcwidth in /usr/local/lib/python3.7/dist-packages (from ftfy->flair) (0.2.5)\n",
            "Requirement already satisfied: PySocks!=1.5.7,>=1.5.6 in /usr/local/lib/python3.7/dist-packages (from requests->bpemb>=0.3.2->flair) (1.7.1)\n",
            "Requirement already satisfied: click in /usr/local/lib/python3.7/dist-packages (from sacremoses->transformers>=4.0.0->flair) (7.1.2)\n",
            "Building wheels for collected packages: gdown, mpld3, overrides, segtok, sqlitedict, ftfy, langdetect\n",
            "  Building wheel for gdown (PEP 517) ... \u001b[?25l\u001b[?25hdone\n",
            "  Created wheel for gdown: filename=gdown-3.12.2-py3-none-any.whl size=9704 sha256=4fcf498caf3fe8f6be245344bfa2a7a68f575b511ecdf9208c0e7ea272b8ba96\n",
            "  Stored in directory: /root/.cache/pip/wheels/ba/e0/7e/726e872a53f7358b4b96a9975b04e98113b005cd8609a63abc\n",
            "  Building wheel for mpld3 (setup.py) ... \u001b[?25l\u001b[?25hdone\n",
            "  Created wheel for mpld3: filename=mpld3-0.3-py3-none-any.whl size=116702 sha256=bd2aa4de7da842a061ccd7717f0ca78230ada57351c68a6d0bd49d3beabab5d1\n",
            "  Stored in directory: /root/.cache/pip/wheels/26/70/6a/1c79e59951a41b4045497da187b2724f5659ca64033cf4548e\n",
            "  Building wheel for overrides (setup.py) ... \u001b[?25l\u001b[?25hdone\n",
            "  Created wheel for overrides: filename=overrides-3.1.0-py3-none-any.whl size=10186 sha256=f424aab26e694a6b07d88d5ae60903cdb3c8715e0cdf818b5d6373715cb25ab7\n",
            "  Stored in directory: /root/.cache/pip/wheels/3a/0d/38/01a9bc6e20dcfaf0a6a7b552d03137558ba1c38aea47644682\n",
            "  Building wheel for segtok (setup.py) ... \u001b[?25l\u001b[?25hdone\n",
            "  Created wheel for segtok: filename=segtok-1.5.10-py3-none-any.whl size=25030 sha256=11d4e1751a6f1b9d4e5b788291b16df076731f66c9b9789380e9995af1e153c2\n",
            "  Stored in directory: /root/.cache/pip/wheels/67/b7/d0/a121106e61339eee5ed083bc230b1c8dc422c49a5a28c2addd\n",
            "  Building wheel for sqlitedict (setup.py) ... \u001b[?25l\u001b[?25hdone\n",
            "  Created wheel for sqlitedict: filename=sqlitedict-1.7.0-py3-none-any.whl size=14392 sha256=f63d9b8da058951bf63450860590d9c6d2e1cc3e2ed88f97c495cbcd33e5823d\n",
            "  Stored in directory: /root/.cache/pip/wheels/af/94/06/18c0e83e9e227da8f3582810b51f319bbfd181e508676a56c8\n",
            "  Building wheel for ftfy (setup.py) ... \u001b[?25l\u001b[?25hdone\n",
            "  Created wheel for ftfy: filename=ftfy-6.0.3-py3-none-any.whl size=41933 sha256=95a77241cd51837df61921a8164a0b592914c39d88a438a7dbe1eca80d441df4\n",
            "  Stored in directory: /root/.cache/pip/wheels/19/f5/38/273eb3b5e76dfd850619312f693716ac4518b498f5ffb6f56d\n",
            "  Building wheel for langdetect (setup.py) ... \u001b[?25l\u001b[?25hdone\n",
            "  Created wheel for langdetect: filename=langdetect-1.0.9-py3-none-any.whl size=993242 sha256=3f2b583a012913d1a891f5a2d377f84201bd8230eafbc8ae99df78fa6f150273\n",
            "  Stored in directory: /root/.cache/pip/wheels/c5/96/8a/f90c59ed25d75e50a8c10a1b1c2d4c402e4dacfa87f3aff36a\n",
            "Successfully built gdown mpld3 overrides segtok sqlitedict ftfy langdetect\n",
            "Installing collected packages: requests, importlib-metadata, tokenizers, sentencepiece, sacremoses, pyyaml, overrides, huggingface-hub, transformers, torch, sqlitedict, segtok, mpld3, langdetect, konoha, janome, gdown, ftfy, deprecated, bpemb, flair\n",
            "  Attempting uninstall: requests\n",
            "    Found existing installation: requests 2.23.0\n",
            "    Uninstalling requests-2.23.0:\n",
            "      Successfully uninstalled requests-2.23.0\n",
            "  Attempting uninstall: importlib-metadata\n",
            "    Found existing installation: importlib-metadata 4.6.3\n",
            "    Uninstalling importlib-metadata-4.6.3:\n",
            "      Successfully uninstalled importlib-metadata-4.6.3\n",
            "  Attempting uninstall: pyyaml\n",
            "    Found existing installation: PyYAML 3.13\n",
            "    Uninstalling PyYAML-3.13:\n",
            "      Successfully uninstalled PyYAML-3.13\n",
            "  Attempting uninstall: torch\n",
            "    Found existing installation: torch 1.9.0+cu102\n",
            "    Uninstalling torch-1.9.0+cu102:\n",
            "      Successfully uninstalled torch-1.9.0+cu102\n",
            "  Attempting uninstall: gdown\n",
            "    Found existing installation: gdown 3.6.4\n",
            "    Uninstalling gdown-3.6.4:\n",
            "      Successfully uninstalled gdown-3.6.4\n",
            "\u001b[31mERROR: pip's dependency resolver does not currently take into account all the packages that are installed. This behaviour is the source of the following dependency conflicts.\n",
            "torchvision 0.10.0+cu102 requires torch==1.9.0, but you have torch 1.7.1 which is incompatible.\n",
            "torchtext 0.10.0 requires torch==1.9.0, but you have torch 1.7.1 which is incompatible.\n",
            "google-colab 1.0.0 requires requests~=2.23.0, but you have requests 2.26.0 which is incompatible.\n",
            "datascience 0.10.6 requires folium==0.2.1, but you have folium 0.8.3 which is incompatible.\u001b[0m\n",
            "Successfully installed bpemb-0.3.3 deprecated-1.2.12 flair-0.8.0.post1 ftfy-6.0.3 gdown-3.12.2 huggingface-hub-0.0.12 importlib-metadata-3.10.1 janome-0.4.1 konoha-4.6.5 langdetect-1.0.9 mpld3-0.3 overrides-3.1.0 pyyaml-5.4.1 requests-2.26.0 sacremoses-0.0.45 segtok-1.5.10 sentencepiece-0.1.95 sqlitedict-1.7.0 tokenizers-0.10.3 torch-1.7.1 transformers-4.9.2\n"
          ],
          "name": "stdout"
        }
      ]
    },
    {
      "cell_type": "markdown",
      "metadata": {
        "id": "Br9eYYQV2O6l"
      },
      "source": [
        "# Rule based Sentiment Analysis\n",
        "using TextBlob, VADER, SentiWordNet"
      ]
    },
    {
      "cell_type": "markdown",
      "metadata": {
        "id": "lfyEBT7s2O6o"
      },
      "source": [
        "### Data preprocessing steps\n",
        "1. Cleaning the text\n",
        "2. Tokenization\n",
        "3. Enrichment - POS tagging\n",
        "4. Stopwords removal\n",
        "5. Obtaining the stem words"
      ]
    },
    {
      "cell_type": "code",
      "metadata": {
        "colab": {
          "base_uri": "https://localhost:8080/"
        },
        "id": "SGEjQIBb2ffj",
        "outputId": "43196e08-47c2-41d4-dd2d-f0257a6ed467"
      },
      "source": [
        "from google.colab import drive\n",
        "drive.mount('/content/drive')"
      ],
      "execution_count": 3,
      "outputs": [
        {
          "output_type": "stream",
          "text": [
            "Mounted at /content/drive\n"
          ],
          "name": "stdout"
        }
      ]
    },
    {
      "cell_type": "markdown",
      "metadata": {
        "id": "QlamzmoM2O6p"
      },
      "source": [
        "Importing dataset"
      ]
    },
    {
      "cell_type": "code",
      "metadata": {
        "id": "Bec_sS9S2O6p",
        "colab": {
          "base_uri": "https://localhost:8080/",
          "height": 205
        },
        "outputId": "f033b064-c77e-4fd0-a6ee-f7c0378eab00"
      },
      "source": [
        "import pandas as pd\n",
        "\n",
        "# Creating a pandas dataframe from reviews.txt file\n",
        "data = pd.read_csv('drive/MyDrive/bbc_sent_final.csv')\n",
        "data.head()"
      ],
      "execution_count": 5,
      "outputs": [
        {
          "output_type": "execute_result",
          "data": {
            "text/html": [
              "<div>\n",
              "<style scoped>\n",
              "    .dataframe tbody tr th:only-of-type {\n",
              "        vertical-align: middle;\n",
              "    }\n",
              "\n",
              "    .dataframe tbody tr th {\n",
              "        vertical-align: top;\n",
              "    }\n",
              "\n",
              "    .dataframe thead th {\n",
              "        text-align: right;\n",
              "    }\n",
              "</style>\n",
              "<table border=\"1\" class=\"dataframe\">\n",
              "  <thead>\n",
              "    <tr style=\"text-align: right;\">\n",
              "      <th></th>\n",
              "      <th>text</th>\n",
              "      <th>sent</th>\n",
              "    </tr>\n",
              "  </thead>\n",
              "  <tbody>\n",
              "    <tr>\n",
              "      <th>0</th>\n",
              "      <td>Psychiatrists are being urged to ask children ...</td>\n",
              "      <td>0</td>\n",
              "    </tr>\n",
              "    <tr>\n",
              "      <th>1</th>\n",
              "      <td>The number of adults seeking help to cope with...</td>\n",
              "      <td>-1</td>\n",
              "    </tr>\n",
              "    <tr>\n",
              "      <th>2</th>\n",
              "      <td>The current system of checking newborns for hi...</td>\n",
              "      <td>-1</td>\n",
              "    </tr>\n",
              "    <tr>\n",
              "      <th>3</th>\n",
              "      <td>Calorie-filled Easter eggs are being sold in s...</td>\n",
              "      <td>-1</td>\n",
              "    </tr>\n",
              "    <tr>\n",
              "      <th>4</th>\n",
              "      <td>\"She is so desperate to end it all, she curren...</td>\n",
              "      <td>-1</td>\n",
              "    </tr>\n",
              "  </tbody>\n",
              "</table>\n",
              "</div>"
            ],
            "text/plain": [
              "                                                text  sent\n",
              "0  Psychiatrists are being urged to ask children ...     0\n",
              "1  The number of adults seeking help to cope with...    -1\n",
              "2  The current system of checking newborns for hi...    -1\n",
              "3  Calorie-filled Easter eggs are being sold in s...    -1\n",
              "4  \"She is so desperate to end it all, she curren...    -1"
            ]
          },
          "metadata": {
            "tags": []
          },
          "execution_count": 5
        }
      ]
    },
    {
      "cell_type": "markdown",
      "metadata": {
        "id": "D99AWEsb2O6s"
      },
      "source": [
        "### Step 1: Cleaning the text"
      ]
    },
    {
      "cell_type": "code",
      "metadata": {
        "id": "WcdJuOST2O6t",
        "colab": {
          "base_uri": "https://localhost:8080/",
          "height": 205
        },
        "outputId": "54c7cab5-0102-4baf-85e7-32730a5f0264"
      },
      "source": [
        "import re\n",
        "\n",
        "# Define a function to clean the text\n",
        "def clean(text):\n",
        "    # Removes all special characters and numericals leaving the alphabets\n",
        "    text = re.sub('[^A-Za-z]+', ' ', text) \n",
        "    return text\n",
        "\n",
        "# Cleaning the text in the review column\n",
        "data['clean_text'] =data['text'].apply(clean)\n",
        "data.head()"
      ],
      "execution_count": 6,
      "outputs": [
        {
          "output_type": "execute_result",
          "data": {
            "text/html": [
              "<div>\n",
              "<style scoped>\n",
              "    .dataframe tbody tr th:only-of-type {\n",
              "        vertical-align: middle;\n",
              "    }\n",
              "\n",
              "    .dataframe tbody tr th {\n",
              "        vertical-align: top;\n",
              "    }\n",
              "\n",
              "    .dataframe thead th {\n",
              "        text-align: right;\n",
              "    }\n",
              "</style>\n",
              "<table border=\"1\" class=\"dataframe\">\n",
              "  <thead>\n",
              "    <tr style=\"text-align: right;\">\n",
              "      <th></th>\n",
              "      <th>text</th>\n",
              "      <th>sent</th>\n",
              "      <th>clean_text</th>\n",
              "    </tr>\n",
              "  </thead>\n",
              "  <tbody>\n",
              "    <tr>\n",
              "      <th>0</th>\n",
              "      <td>Psychiatrists are being urged to ask children ...</td>\n",
              "      <td>0</td>\n",
              "      <td>Psychiatrists are being urged to ask children ...</td>\n",
              "    </tr>\n",
              "    <tr>\n",
              "      <th>1</th>\n",
              "      <td>The number of adults seeking help to cope with...</td>\n",
              "      <td>-1</td>\n",
              "      <td>The number of adults seeking help to cope with...</td>\n",
              "    </tr>\n",
              "    <tr>\n",
              "      <th>2</th>\n",
              "      <td>The current system of checking newborns for hi...</td>\n",
              "      <td>-1</td>\n",
              "      <td>The current system of checking newborns for hi...</td>\n",
              "    </tr>\n",
              "    <tr>\n",
              "      <th>3</th>\n",
              "      <td>Calorie-filled Easter eggs are being sold in s...</td>\n",
              "      <td>-1</td>\n",
              "      <td>Calorie filled Easter eggs are being sold in s...</td>\n",
              "    </tr>\n",
              "    <tr>\n",
              "      <th>4</th>\n",
              "      <td>\"She is so desperate to end it all, she curren...</td>\n",
              "      <td>-1</td>\n",
              "      <td>She is so desperate to end it all she current...</td>\n",
              "    </tr>\n",
              "  </tbody>\n",
              "</table>\n",
              "</div>"
            ],
            "text/plain": [
              "                                                text  ...                                         clean_text\n",
              "0  Psychiatrists are being urged to ask children ...  ...  Psychiatrists are being urged to ask children ...\n",
              "1  The number of adults seeking help to cope with...  ...  The number of adults seeking help to cope with...\n",
              "2  The current system of checking newborns for hi...  ...  The current system of checking newborns for hi...\n",
              "3  Calorie-filled Easter eggs are being sold in s...  ...  Calorie filled Easter eggs are being sold in s...\n",
              "4  \"She is so desperate to end it all, she curren...  ...   She is so desperate to end it all she current...\n",
              "\n",
              "[5 rows x 3 columns]"
            ]
          },
          "metadata": {
            "tags": []
          },
          "execution_count": 6
        }
      ]
    },
    {
      "cell_type": "markdown",
      "metadata": {
        "id": "CW8CE4Zf2O6v"
      },
      "source": [
        "### Steps 2-4: Tokenization, POS tagging, stopwords removal"
      ]
    },
    {
      "cell_type": "code",
      "metadata": {
        "colab": {
          "base_uri": "https://localhost:8080/"
        },
        "id": "n5Exsp2d3EsC",
        "outputId": "c87f71ef-c401-4042-bd9c-de18cb0645c2"
      },
      "source": [
        "import nltk\n",
        "nltk.download('punkt')\n",
        "from nltk.tokenize import word_tokenize\n",
        "from nltk import pos_tag\n",
        "nltk.download('stopwords')\n",
        "from nltk.corpus import stopwords\n",
        "nltk.download('wordnet')\n",
        "from nltk.corpus import wordnet"
      ],
      "execution_count": 7,
      "outputs": [
        {
          "output_type": "stream",
          "text": [
            "[nltk_data] Downloading package punkt to /root/nltk_data...\n",
            "[nltk_data]   Unzipping tokenizers/punkt.zip.\n",
            "[nltk_data] Downloading package stopwords to /root/nltk_data...\n",
            "[nltk_data]   Unzipping corpora/stopwords.zip.\n",
            "[nltk_data] Downloading package wordnet to /root/nltk_data...\n",
            "[nltk_data]   Unzipping corpora/wordnet.zip.\n"
          ],
          "name": "stdout"
        }
      ]
    },
    {
      "cell_type": "code",
      "metadata": {
        "colab": {
          "base_uri": "https://localhost:8080/"
        },
        "id": "0ACFLE1j3ROb",
        "outputId": "7c3b9e64-eae0-4a2d-a19a-e44a8b44f481"
      },
      "source": [
        "nltk.download('averaged_perceptron_tagger')"
      ],
      "execution_count": 8,
      "outputs": [
        {
          "output_type": "stream",
          "text": [
            "[nltk_data] Downloading package averaged_perceptron_tagger to\n",
            "[nltk_data]     /root/nltk_data...\n",
            "[nltk_data]   Unzipping taggers/averaged_perceptron_tagger.zip.\n"
          ],
          "name": "stdout"
        },
        {
          "output_type": "execute_result",
          "data": {
            "text/plain": [
              "True"
            ]
          },
          "metadata": {
            "tags": []
          },
          "execution_count": 8
        }
      ]
    },
    {
      "cell_type": "code",
      "metadata": {
        "id": "NPoyYDkw2O6w"
      },
      "source": [
        "# POS tagger dictionary\n",
        "pos_dict = {'J':wordnet.ADJ, 'V':wordnet.VERB, 'N':wordnet.NOUN, 'R':wordnet.ADV}\n",
        "\n",
        "def token_stop_pos(text):\n",
        "    tags = pos_tag(word_tokenize(text))\n",
        "    newlist = []\n",
        "    for word, tag in tags:\n",
        "        if word.lower() not in set(stopwords.words('english')):\n",
        "            newlist.append(tuple([word, pos_dict.get(tag[0])]))\n",
        "    return newlist\n",
        "\n",
        "data['POS_tagged'] = data['clean_text'].apply(token_stop_pos)\n",
        "\n",
        "# mydata['POS tagged'][0]"
      ],
      "execution_count": 9,
      "outputs": []
    },
    {
      "cell_type": "code",
      "metadata": {
        "colab": {
          "base_uri": "https://localhost:8080/",
          "height": 205
        },
        "id": "hqaYepAH3XNb",
        "outputId": "46a519fc-bd76-4efd-e29a-81149201b1fc"
      },
      "source": [
        "data.head()"
      ],
      "execution_count": 10,
      "outputs": [
        {
          "output_type": "execute_result",
          "data": {
            "text/html": [
              "<div>\n",
              "<style scoped>\n",
              "    .dataframe tbody tr th:only-of-type {\n",
              "        vertical-align: middle;\n",
              "    }\n",
              "\n",
              "    .dataframe tbody tr th {\n",
              "        vertical-align: top;\n",
              "    }\n",
              "\n",
              "    .dataframe thead th {\n",
              "        text-align: right;\n",
              "    }\n",
              "</style>\n",
              "<table border=\"1\" class=\"dataframe\">\n",
              "  <thead>\n",
              "    <tr style=\"text-align: right;\">\n",
              "      <th></th>\n",
              "      <th>text</th>\n",
              "      <th>sent</th>\n",
              "      <th>clean_text</th>\n",
              "      <th>POS_tagged</th>\n",
              "    </tr>\n",
              "  </thead>\n",
              "  <tbody>\n",
              "    <tr>\n",
              "      <th>0</th>\n",
              "      <td>Psychiatrists are being urged to ask children ...</td>\n",
              "      <td>0</td>\n",
              "      <td>Psychiatrists are being urged to ask children ...</td>\n",
              "      <td>[(Psychiatrists, n), (urged, v), (ask, v), (ch...</td>\n",
              "    </tr>\n",
              "    <tr>\n",
              "      <th>1</th>\n",
              "      <td>The number of adults seeking help to cope with...</td>\n",
              "      <td>-1</td>\n",
              "      <td>The number of adults seeking help to cope with...</td>\n",
              "      <td>[(number, n), (adults, n), (seeking, v), (help...</td>\n",
              "    </tr>\n",
              "    <tr>\n",
              "      <th>2</th>\n",
              "      <td>The current system of checking newborns for hi...</td>\n",
              "      <td>-1</td>\n",
              "      <td>The current system of checking newborns for hi...</td>\n",
              "      <td>[(current, a), (system, n), (checking, v), (ne...</td>\n",
              "    </tr>\n",
              "    <tr>\n",
              "      <th>3</th>\n",
              "      <td>Calorie-filled Easter eggs are being sold in s...</td>\n",
              "      <td>-1</td>\n",
              "      <td>Calorie filled Easter eggs are being sold in s...</td>\n",
              "      <td>[(Calorie, n), (filled, v), (Easter, n), (eggs...</td>\n",
              "    </tr>\n",
              "    <tr>\n",
              "      <th>4</th>\n",
              "      <td>\"She is so desperate to end it all, she curren...</td>\n",
              "      <td>-1</td>\n",
              "      <td>She is so desperate to end it all she current...</td>\n",
              "      <td>[(desperate, a), (end, v), (currently, r), (to...</td>\n",
              "    </tr>\n",
              "  </tbody>\n",
              "</table>\n",
              "</div>"
            ],
            "text/plain": [
              "                                                text  ...                                         POS_tagged\n",
              "0  Psychiatrists are being urged to ask children ...  ...  [(Psychiatrists, n), (urged, v), (ask, v), (ch...\n",
              "1  The number of adults seeking help to cope with...  ...  [(number, n), (adults, n), (seeking, v), (help...\n",
              "2  The current system of checking newborns for hi...  ...  [(current, a), (system, n), (checking, v), (ne...\n",
              "3  Calorie-filled Easter eggs are being sold in s...  ...  [(Calorie, n), (filled, v), (Easter, n), (eggs...\n",
              "4  \"She is so desperate to end it all, she curren...  ...  [(desperate, a), (end, v), (currently, r), (to...\n",
              "\n",
              "[5 rows x 4 columns]"
            ]
          },
          "metadata": {
            "tags": []
          },
          "execution_count": 10
        }
      ]
    },
    {
      "cell_type": "markdown",
      "metadata": {
        "id": "WF6vQYM32O6w"
      },
      "source": [
        "### Step 5: Obtaining the stem words\n",
        "\n",
        "#### Lemmatization"
      ]
    },
    {
      "cell_type": "code",
      "metadata": {
        "id": "HJopXa1R3a4R"
      },
      "source": [
        "from nltk.stem import WordNetLemmatizer\n",
        "wordnet_lemmatizer = WordNetLemmatizer()"
      ],
      "execution_count": 11,
      "outputs": []
    },
    {
      "cell_type": "code",
      "metadata": {
        "scrolled": true,
        "id": "TeWWoo8b2O6w",
        "colab": {
          "base_uri": "https://localhost:8080/",
          "height": 292
        },
        "outputId": "f500f439-d230-4652-b36d-96ce7497f482"
      },
      "source": [
        "def lemmatize(pos_data):\n",
        "    lemma_rew = \" \"\n",
        "    for word, pos in pos_data:\n",
        "        if not pos: \n",
        "            lemma = word\n",
        "            lemma_rew = lemma_rew + \" \" + lemma\n",
        "        else:  \n",
        "            lemma = wordnet_lemmatizer.lemmatize(word, pos=pos)\n",
        "            lemma_rew = lemma_rew + \" \" + lemma\n",
        "    return lemma_rew\n",
        "    \n",
        "data['Lemma'] = data['POS_tagged'].apply(lemmatize)\n",
        "data.head()\n",
        "# print(mydata['review'][239] + \"\\n\" + mydata['Lemma'][239])"
      ],
      "execution_count": 12,
      "outputs": [
        {
          "output_type": "execute_result",
          "data": {
            "text/html": [
              "<div>\n",
              "<style scoped>\n",
              "    .dataframe tbody tr th:only-of-type {\n",
              "        vertical-align: middle;\n",
              "    }\n",
              "\n",
              "    .dataframe tbody tr th {\n",
              "        vertical-align: top;\n",
              "    }\n",
              "\n",
              "    .dataframe thead th {\n",
              "        text-align: right;\n",
              "    }\n",
              "</style>\n",
              "<table border=\"1\" class=\"dataframe\">\n",
              "  <thead>\n",
              "    <tr style=\"text-align: right;\">\n",
              "      <th></th>\n",
              "      <th>text</th>\n",
              "      <th>sent</th>\n",
              "      <th>clean_text</th>\n",
              "      <th>POS_tagged</th>\n",
              "      <th>Lemma</th>\n",
              "    </tr>\n",
              "  </thead>\n",
              "  <tbody>\n",
              "    <tr>\n",
              "      <th>0</th>\n",
              "      <td>Psychiatrists are being urged to ask children ...</td>\n",
              "      <td>0</td>\n",
              "      <td>Psychiatrists are being urged to ask children ...</td>\n",
              "      <td>[(Psychiatrists, n), (urged, v), (ask, v), (ch...</td>\n",
              "      <td>Psychiatrists urge ask child mental health i...</td>\n",
              "    </tr>\n",
              "    <tr>\n",
              "      <th>1</th>\n",
              "      <td>The number of adults seeking help to cope with...</td>\n",
              "      <td>-1</td>\n",
              "      <td>The number of adults seeking help to cope with...</td>\n",
              "      <td>[(number, n), (adults, n), (seeking, v), (help...</td>\n",
              "      <td>number adult seek help cope alcoholic parent...</td>\n",
              "    </tr>\n",
              "    <tr>\n",
              "      <th>2</th>\n",
              "      <td>The current system of checking newborns for hi...</td>\n",
              "      <td>-1</td>\n",
              "      <td>The current system of checking newborns for hi...</td>\n",
              "      <td>[(current, a), (system, n), (checking, v), (ne...</td>\n",
              "      <td>current system check newborn hip problem fai...</td>\n",
              "    </tr>\n",
              "    <tr>\n",
              "      <th>3</th>\n",
              "      <td>Calorie-filled Easter eggs are being sold in s...</td>\n",
              "      <td>-1</td>\n",
              "      <td>Calorie filled Easter eggs are being sold in s...</td>\n",
              "      <td>[(Calorie, n), (filled, v), (Easter, n), (eggs...</td>\n",
              "      <td>Calorie fill Easter egg sell shop far early ...</td>\n",
              "    </tr>\n",
              "    <tr>\n",
              "      <th>4</th>\n",
              "      <td>\"She is so desperate to end it all, she curren...</td>\n",
              "      <td>-1</td>\n",
              "      <td>She is so desperate to end it all she current...</td>\n",
              "      <td>[(desperate, a), (end, v), (currently, r), (to...</td>\n",
              "      <td>desperate end currently toothbrush inside Ja...</td>\n",
              "    </tr>\n",
              "  </tbody>\n",
              "</table>\n",
              "</div>"
            ],
            "text/plain": [
              "                                                text  ...                                              Lemma\n",
              "0  Psychiatrists are being urged to ask children ...  ...    Psychiatrists urge ask child mental health i...\n",
              "1  The number of adults seeking help to cope with...  ...    number adult seek help cope alcoholic parent...\n",
              "2  The current system of checking newborns for hi...  ...    current system check newborn hip problem fai...\n",
              "3  Calorie-filled Easter eggs are being sold in s...  ...    Calorie fill Easter egg sell shop far early ...\n",
              "4  \"She is so desperate to end it all, she curren...  ...    desperate end currently toothbrush inside Ja...\n",
              "\n",
              "[5 rows x 5 columns]"
            ]
          },
          "metadata": {
            "tags": []
          },
          "execution_count": 12
        }
      ]
    },
    {
      "cell_type": "markdown",
      "metadata": {
        "id": "Je6SwAz_2O6y"
      },
      "source": [
        "# Sentiment analysis using TextBlob"
      ]
    },
    {
      "cell_type": "code",
      "metadata": {
        "id": "ZJDwNGpr2O6y"
      },
      "source": [
        "from textblob import TextBlob\n",
        "\n",
        "# function to calculate subjectivity \n",
        "def getSubjectivity(review):\n",
        "    return TextBlob(review).sentiment.subjectivity\n",
        "\n",
        "# function to calculate polarity\n",
        "def getPolarity(review):\n",
        "    return TextBlob(review).sentiment.polarity\n",
        "\n",
        "# function to analyze the reviews\n",
        "def analysis(score):\n",
        "    if score < 0:\n",
        "        return 'Negative'\n",
        "    elif score == 0:\n",
        "        return 'Neutral'\n",
        "    else:\n",
        "        return 'Positive'"
      ],
      "execution_count": 13,
      "outputs": []
    },
    {
      "cell_type": "code",
      "metadata": {
        "id": "tM69TgFI2O6y"
      },
      "source": [
        "fin_data = pd.DataFrame(data[['text', 'Lemma']])"
      ],
      "execution_count": 14,
      "outputs": []
    },
    {
      "cell_type": "code",
      "metadata": {
        "scrolled": true,
        "id": "A1KEsg5B2O6z",
        "colab": {
          "base_uri": "https://localhost:8080/",
          "height": 205
        },
        "outputId": "7dff5cc1-7a66-4d43-abf1-1a897b845af3"
      },
      "source": [
        "# fin_data['Subjectivity'] = fin_data['Lemma'].apply(getSubjectivity) \n",
        "fin_data['Polarity'] = fin_data['Lemma'].apply(getPolarity) \n",
        "fin_data['Analysis'] = fin_data['Polarity'].apply(analysis)\n",
        "fin_data.head()"
      ],
      "execution_count": 15,
      "outputs": [
        {
          "output_type": "execute_result",
          "data": {
            "text/html": [
              "<div>\n",
              "<style scoped>\n",
              "    .dataframe tbody tr th:only-of-type {\n",
              "        vertical-align: middle;\n",
              "    }\n",
              "\n",
              "    .dataframe tbody tr th {\n",
              "        vertical-align: top;\n",
              "    }\n",
              "\n",
              "    .dataframe thead th {\n",
              "        text-align: right;\n",
              "    }\n",
              "</style>\n",
              "<table border=\"1\" class=\"dataframe\">\n",
              "  <thead>\n",
              "    <tr style=\"text-align: right;\">\n",
              "      <th></th>\n",
              "      <th>text</th>\n",
              "      <th>Lemma</th>\n",
              "      <th>Polarity</th>\n",
              "      <th>Analysis</th>\n",
              "    </tr>\n",
              "  </thead>\n",
              "  <tbody>\n",
              "    <tr>\n",
              "      <th>0</th>\n",
              "      <td>Psychiatrists are being urged to ask children ...</td>\n",
              "      <td>Psychiatrists urge ask child mental health i...</td>\n",
              "      <td>0.002137</td>\n",
              "      <td>Positive</td>\n",
              "    </tr>\n",
              "    <tr>\n",
              "      <th>1</th>\n",
              "      <td>The number of adults seeking help to cope with...</td>\n",
              "      <td>number adult seek help cope alcoholic parent...</td>\n",
              "      <td>-0.065316</td>\n",
              "      <td>Negative</td>\n",
              "    </tr>\n",
              "    <tr>\n",
              "      <th>2</th>\n",
              "      <td>The current system of checking newborns for hi...</td>\n",
              "      <td>current system check newborn hip problem fai...</td>\n",
              "      <td>-0.059900</td>\n",
              "      <td>Negative</td>\n",
              "    </tr>\n",
              "    <tr>\n",
              "      <th>3</th>\n",
              "      <td>Calorie-filled Easter eggs are being sold in s...</td>\n",
              "      <td>Calorie fill Easter egg sell shop far early ...</td>\n",
              "      <td>0.037837</td>\n",
              "      <td>Positive</td>\n",
              "    </tr>\n",
              "    <tr>\n",
              "      <th>4</th>\n",
              "      <td>\"She is so desperate to end it all, she curren...</td>\n",
              "      <td>desperate end currently toothbrush inside Ja...</td>\n",
              "      <td>-0.001690</td>\n",
              "      <td>Negative</td>\n",
              "    </tr>\n",
              "  </tbody>\n",
              "</table>\n",
              "</div>"
            ],
            "text/plain": [
              "                                                text  ...  Analysis\n",
              "0  Psychiatrists are being urged to ask children ...  ...  Positive\n",
              "1  The number of adults seeking help to cope with...  ...  Negative\n",
              "2  The current system of checking newborns for hi...  ...  Negative\n",
              "3  Calorie-filled Easter eggs are being sold in s...  ...  Positive\n",
              "4  \"She is so desperate to end it all, she curren...  ...  Negative\n",
              "\n",
              "[5 rows x 4 columns]"
            ]
          },
          "metadata": {
            "tags": []
          },
          "execution_count": 15
        }
      ]
    },
    {
      "cell_type": "code",
      "metadata": {
        "id": "wzva4yWh2O6z",
        "colab": {
          "base_uri": "https://localhost:8080/"
        },
        "outputId": "7a2444ca-45e3-4c69-90b8-bc1bb468d664"
      },
      "source": [
        "tb_counts = fin_data.Analysis.value_counts()\n",
        "tb_counts"
      ],
      "execution_count": 16,
      "outputs": [
        {
          "output_type": "execute_result",
          "data": {
            "text/plain": [
              "Positive    86\n",
              "Negative    13\n",
              "Name: Analysis, dtype: int64"
            ]
          },
          "metadata": {
            "tags": []
          },
          "execution_count": 16
        }
      ]
    },
    {
      "cell_type": "code",
      "metadata": {
        "id": "jCXRZrMA2O6z",
        "colab": {
          "base_uri": "https://localhost:8080/",
          "height": 515
        },
        "outputId": "0a0bbfc6-0b38-4495-efda-be4ff77441f1"
      },
      "source": [
        "import matplotlib.pyplot as plt\n",
        "%matplotlib inline\n",
        "\n",
        "tb_count= fin_data.Analysis.value_counts()\n",
        "plt.figure(figsize=(10, 7))\n",
        "plt.pie(tb_counts.values, labels = tb_counts.index, autopct='%1.1f%%', shadow=False)\n",
        "# plt.legend()"
      ],
      "execution_count": 17,
      "outputs": [
        {
          "output_type": "execute_result",
          "data": {
            "text/plain": [
              "([<matplotlib.patches.Wedge at 0x7f33b88e51d0>,\n",
              "  <matplotlib.patches.Wedge at 0x7f33b88a3cd0>],\n",
              " [Text(-1.0077192839892757, 0.4410236327864319, 'Positive'),\n",
              "  Text(1.0077192633434682, -0.44102367996117625, 'Negative')],\n",
              " [Text(-0.5496650639941504, 0.24055834515623556, '86.9%'),\n",
              "  Text(0.5496650527328008, -0.24055837088791426, '13.1%')])"
            ]
          },
          "metadata": {
            "tags": []
          },
          "execution_count": 17
        },
        {
          "output_type": "display_data",
          "data": {
            "image/png": "[encoded data removed]",
            "text/plain": [
              "<Figure size 720x504 with 1 Axes>"
            ]
          },
          "metadata": {
            "tags": []
          }
        }
      ]
    },
    {
      "cell_type": "markdown",
      "metadata": {
        "id": "IxRmSFRJ2O60"
      },
      "source": [
        "# Sentiment analysis using VADER"
      ]
    },
    {
      "cell_type": "code",
      "metadata": {
        "id": "ZZNZmzWk2O60",
        "colab": {
          "base_uri": "https://localhost:8080/"
        },
        "outputId": "3ab45f86-059d-428e-97ed-9504b5c3c068"
      },
      "source": [
        "from nltk.sentiment.vader import SentimentIntensityAnalyzer as SIA\n",
        "nltk.download('vader_lexicon')\n",
        "sia = SIA()\n",
        "\n",
        "\n",
        "# function to calculate vader sentiment  \n",
        "def vadersentimentanalysis(review):\n",
        "    vs = sia.polarity_scores(review)\n",
        "    return vs['compound']\n",
        "\n",
        "fin_data['Vader Sentiment'] = fin_data['Lemma'].apply(vadersentimentanalysis)"
      ],
      "execution_count": 18,
      "outputs": [
        {
          "output_type": "stream",
          "text": [
            "/usr/local/lib/python3.7/dist-packages/nltk/twitter/__init__.py:20: UserWarning: The twython library has not been installed. Some functionality from the twitter package will not be available.\n",
            "  warnings.warn(\"The twython library has not been installed. \"\n"
          ],
          "name": "stderr"
        },
        {
          "output_type": "stream",
          "text": [
            "[nltk_data] Downloading package vader_lexicon to /root/nltk_data...\n"
          ],
          "name": "stdout"
        }
      ]
    },
    {
      "cell_type": "code",
      "metadata": {
        "id": "KyZD69Ln2O60",
        "colab": {
          "base_uri": "https://localhost:8080/",
          "height": 309
        },
        "outputId": "970ec891-5c16-4a29-c223-6c1c18e2346f"
      },
      "source": [
        "# function to analyse \n",
        "def vader_analysis(compound):\n",
        "    if compound >= 0.5:\n",
        "        return 'Positive'\n",
        "    elif compound <= -0.5 :\n",
        "        return 'Negative'\n",
        "    else:\n",
        "        return 'Neutral'\n",
        "    \n",
        "fin_data['Vader Analysis'] = fin_data['Vader Sentiment'].apply(vader_analysis)\n",
        "fin_data.head()"
      ],
      "execution_count": 19,
      "outputs": [
        {
          "output_type": "execute_result",
          "data": {
            "text/html": [
              "<div>\n",
              "<style scoped>\n",
              "    .dataframe tbody tr th:only-of-type {\n",
              "        vertical-align: middle;\n",
              "    }\n",
              "\n",
              "    .dataframe tbody tr th {\n",
              "        vertical-align: top;\n",
              "    }\n",
              "\n",
              "    .dataframe thead th {\n",
              "        text-align: right;\n",
              "    }\n",
              "</style>\n",
              "<table border=\"1\" class=\"dataframe\">\n",
              "  <thead>\n",
              "    <tr style=\"text-align: right;\">\n",
              "      <th></th>\n",
              "      <th>text</th>\n",
              "      <th>Lemma</th>\n",
              "      <th>Polarity</th>\n",
              "      <th>Analysis</th>\n",
              "      <th>Vader Sentiment</th>\n",
              "      <th>Vader Analysis</th>\n",
              "    </tr>\n",
              "  </thead>\n",
              "  <tbody>\n",
              "    <tr>\n",
              "      <th>0</th>\n",
              "      <td>Psychiatrists are being urged to ask children ...</td>\n",
              "      <td>Psychiatrists urge ask child mental health i...</td>\n",
              "      <td>0.002137</td>\n",
              "      <td>Positive</td>\n",
              "      <td>-0.9764</td>\n",
              "      <td>Negative</td>\n",
              "    </tr>\n",
              "    <tr>\n",
              "      <th>1</th>\n",
              "      <td>The number of adults seeking help to cope with...</td>\n",
              "      <td>number adult seek help cope alcoholic parent...</td>\n",
              "      <td>-0.065316</td>\n",
              "      <td>Negative</td>\n",
              "      <td>-0.8856</td>\n",
              "      <td>Negative</td>\n",
              "    </tr>\n",
              "    <tr>\n",
              "      <th>2</th>\n",
              "      <td>The current system of checking newborns for hi...</td>\n",
              "      <td>current system check newborn hip problem fai...</td>\n",
              "      <td>-0.059900</td>\n",
              "      <td>Negative</td>\n",
              "      <td>-0.9864</td>\n",
              "      <td>Negative</td>\n",
              "    </tr>\n",
              "    <tr>\n",
              "      <th>3</th>\n",
              "      <td>Calorie-filled Easter eggs are being sold in s...</td>\n",
              "      <td>Calorie fill Easter egg sell shop far early ...</td>\n",
              "      <td>0.037837</td>\n",
              "      <td>Positive</td>\n",
              "      <td>0.9246</td>\n",
              "      <td>Positive</td>\n",
              "    </tr>\n",
              "    <tr>\n",
              "      <th>4</th>\n",
              "      <td>\"She is so desperate to end it all, she curren...</td>\n",
              "      <td>desperate end currently toothbrush inside Ja...</td>\n",
              "      <td>-0.001690</td>\n",
              "      <td>Negative</td>\n",
              "      <td>-0.7827</td>\n",
              "      <td>Negative</td>\n",
              "    </tr>\n",
              "  </tbody>\n",
              "</table>\n",
              "</div>"
            ],
            "text/plain": [
              "                                                text  ... Vader Analysis\n",
              "0  Psychiatrists are being urged to ask children ...  ...       Negative\n",
              "1  The number of adults seeking help to cope with...  ...       Negative\n",
              "2  The current system of checking newborns for hi...  ...       Negative\n",
              "3  Calorie-filled Easter eggs are being sold in s...  ...       Positive\n",
              "4  \"She is so desperate to end it all, she curren...  ...       Negative\n",
              "\n",
              "[5 rows x 6 columns]"
            ]
          },
          "metadata": {
            "tags": []
          },
          "execution_count": 19
        }
      ]
    },
    {
      "cell_type": "code",
      "metadata": {
        "id": "G9368ILj2O61",
        "colab": {
          "base_uri": "https://localhost:8080/"
        },
        "outputId": "1aa95e3b-ad32-4d49-d9f4-e016665cd4ab"
      },
      "source": [
        "vader_counts = fin_data['Vader Analysis'].value_counts()\n",
        "vader_counts"
      ],
      "execution_count": 20,
      "outputs": [
        {
          "output_type": "execute_result",
          "data": {
            "text/plain": [
              "Positive    52\n",
              "Negative    42\n",
              "Neutral      5\n",
              "Name: Vader Analysis, dtype: int64"
            ]
          },
          "metadata": {
            "tags": []
          },
          "execution_count": 20
        }
      ]
    },
    {
      "cell_type": "code",
      "metadata": {
        "id": "sTh6bhiU2O61",
        "colab": {
          "base_uri": "https://localhost:8080/",
          "height": 566
        },
        "outputId": "b074e2b3-22c4-4e39-cf7f-80a119fdd37d"
      },
      "source": [
        "vader_counts= fin_data['Vader Analysis'].value_counts()\n",
        "plt.figure(figsize=(10, 7))\n",
        "plt.pie(vader_counts.values, labels = vader_counts.index, explode = (0.1, 0, 0), autopct='%1.1f%%', shadow=False)\n",
        "# plt.legend()"
      ],
      "execution_count": 21,
      "outputs": [
        {
          "output_type": "execute_result",
          "data": {
            "text/plain": [
              "([<matplotlib.patches.Wedge at 0x7f33b8a1cb50>,\n",
              "  <matplotlib.patches.Wedge at 0x7f33b8a1ced0>,\n",
              "  <matplotlib.patches.Wedge at 0x7f33b8afc250>],\n",
              " [Text(-0.09509993238994095, 1.1962257324014682, 'Positive'),\n",
              "  Text(-0.0871749380241128, -1.0965402547013459, 'Negative'),\n",
              "  Text(1.0861827862144668, -0.1738014813843021, 'Neutral')],\n",
              " [Text(-0.05547496056079889, 0.6977983439008564, '52.5%'),\n",
              "  Text(-0.047549966194970615, -0.598112866200734, '42.4%'),\n",
              "  Text(0.5924633379351637, -0.09480080802780114, '5.1%')])"
            ]
          },
          "metadata": {
            "tags": []
          },
          "execution_count": 21
        },
        {
          "output_type": "display_data",
          "data": {
            "image/png": "[encoded data removed]",
            "text/plain": [
              "<Figure size 720x504 with 1 Axes>"
            ]
          },
          "metadata": {
            "tags": []
          }
        }
      ]
    },
    {
      "cell_type": "markdown",
      "metadata": {
        "id": "wgBce9Mm2O61"
      },
      "source": [
        "# Sentiment Analysis using SentiWordNet"
      ]
    },
    {
      "cell_type": "code",
      "metadata": {
        "id": "IBQmdgCS2O61",
        "colab": {
          "base_uri": "https://localhost:8080/",
          "height": 344
        },
        "outputId": "2c973e0f-bb79-4c09-e8f9-6ed80cf9c2ca"
      },
      "source": [
        "nltk.download('sentiwordnet')\n",
        "from nltk.corpus import sentiwordnet as swn\n",
        "\n",
        "def sentiwordnetanalysis(pos_data):\n",
        "    sentiment = 0\n",
        "    tokens_count = 0\n",
        "    for word, pos in pos_data:\n",
        "        if not pos:\n",
        "            continue\n",
        "        lemma = wordnet_lemmatizer.lemmatize(word, pos=pos)\n",
        "        if not lemma:\n",
        "            continue\n",
        "        \n",
        "        synsets = wordnet.synsets(lemma, pos=pos)\n",
        "        if not synsets:\n",
        "            continue\n",
        "\n",
        "        # Take the first sense, the most common\n",
        "        synset = synsets[0]\n",
        "        swn_synset = swn.senti_synset(synset.name())\n",
        "        sentiment += swn_synset.pos_score() - swn_synset.neg_score()\n",
        "        tokens_count += 1\n",
        "        # print(swn_synset.pos_score(),swn_synset.neg_score(),swn_synset.obj_score())\n",
        "    if not tokens_count:\n",
        "        return 0\n",
        "    if sentiment>0:\n",
        "        return \"Positive\"\n",
        "    if sentiment==0:\n",
        "        return \"Neutral\"\n",
        "    else:\n",
        "        return \"Negative\"\n",
        "\n",
        "fin_data['SWN analysis'] = data['POS_tagged'].apply(sentiwordnetanalysis)\n",
        "fin_data.head()"
      ],
      "execution_count": 22,
      "outputs": [
        {
          "output_type": "stream",
          "text": [
            "[nltk_data] Downloading package sentiwordnet to /root/nltk_data...\n",
            "[nltk_data]   Unzipping corpora/sentiwordnet.zip.\n"
          ],
          "name": "stdout"
        },
        {
          "output_type": "execute_result",
          "data": {
            "text/html": [
              "<div>\n",
              "<style scoped>\n",
              "    .dataframe tbody tr th:only-of-type {\n",
              "        vertical-align: middle;\n",
              "    }\n",
              "\n",
              "    .dataframe tbody tr th {\n",
              "        vertical-align: top;\n",
              "    }\n",
              "\n",
              "    .dataframe thead th {\n",
              "        text-align: right;\n",
              "    }\n",
              "</style>\n",
              "<table border=\"1\" class=\"dataframe\">\n",
              "  <thead>\n",
              "    <tr style=\"text-align: right;\">\n",
              "      <th></th>\n",
              "      <th>text</th>\n",
              "      <th>Lemma</th>\n",
              "      <th>Polarity</th>\n",
              "      <th>Analysis</th>\n",
              "      <th>Vader Sentiment</th>\n",
              "      <th>Vader Analysis</th>\n",
              "      <th>SWN analysis</th>\n",
              "    </tr>\n",
              "  </thead>\n",
              "  <tbody>\n",
              "    <tr>\n",
              "      <th>0</th>\n",
              "      <td>Psychiatrists are being urged to ask children ...</td>\n",
              "      <td>Psychiatrists urge ask child mental health i...</td>\n",
              "      <td>0.002137</td>\n",
              "      <td>Positive</td>\n",
              "      <td>-0.9764</td>\n",
              "      <td>Negative</td>\n",
              "      <td>Positive</td>\n",
              "    </tr>\n",
              "    <tr>\n",
              "      <th>1</th>\n",
              "      <td>The number of adults seeking help to cope with...</td>\n",
              "      <td>number adult seek help cope alcoholic parent...</td>\n",
              "      <td>-0.065316</td>\n",
              "      <td>Negative</td>\n",
              "      <td>-0.8856</td>\n",
              "      <td>Negative</td>\n",
              "      <td>Negative</td>\n",
              "    </tr>\n",
              "    <tr>\n",
              "      <th>2</th>\n",
              "      <td>The current system of checking newborns for hi...</td>\n",
              "      <td>current system check newborn hip problem fai...</td>\n",
              "      <td>-0.059900</td>\n",
              "      <td>Negative</td>\n",
              "      <td>-0.9864</td>\n",
              "      <td>Negative</td>\n",
              "      <td>Negative</td>\n",
              "    </tr>\n",
              "    <tr>\n",
              "      <th>3</th>\n",
              "      <td>Calorie-filled Easter eggs are being sold in s...</td>\n",
              "      <td>Calorie fill Easter egg sell shop far early ...</td>\n",
              "      <td>0.037837</td>\n",
              "      <td>Positive</td>\n",
              "      <td>0.9246</td>\n",
              "      <td>Positive</td>\n",
              "      <td>Negative</td>\n",
              "    </tr>\n",
              "    <tr>\n",
              "      <th>4</th>\n",
              "      <td>\"She is so desperate to end it all, she curren...</td>\n",
              "      <td>desperate end currently toothbrush inside Ja...</td>\n",
              "      <td>-0.001690</td>\n",
              "      <td>Negative</td>\n",
              "      <td>-0.7827</td>\n",
              "      <td>Negative</td>\n",
              "      <td>Negative</td>\n",
              "    </tr>\n",
              "  </tbody>\n",
              "</table>\n",
              "</div>"
            ],
            "text/plain": [
              "                                                text  ... SWN analysis\n",
              "0  Psychiatrists are being urged to ask children ...  ...     Positive\n",
              "1  The number of adults seeking help to cope with...  ...     Negative\n",
              "2  The current system of checking newborns for hi...  ...     Negative\n",
              "3  Calorie-filled Easter eggs are being sold in s...  ...     Negative\n",
              "4  \"She is so desperate to end it all, she curren...  ...     Negative\n",
              "\n",
              "[5 rows x 7 columns]"
            ]
          },
          "metadata": {
            "tags": []
          },
          "execution_count": 22
        }
      ]
    },
    {
      "cell_type": "code",
      "metadata": {
        "id": "rxs3iypv2O62",
        "colab": {
          "base_uri": "https://localhost:8080/"
        },
        "outputId": "683dbd14-c82d-48fe-b7ad-02a3cfa18cfc"
      },
      "source": [
        "swn_counts= fin_data['SWN analysis'].value_counts()\n",
        "swn_counts"
      ],
      "execution_count": 23,
      "outputs": [
        {
          "output_type": "execute_result",
          "data": {
            "text/plain": [
              "Positive    73\n",
              "Negative    25\n",
              "Neutral      1\n",
              "Name: SWN analysis, dtype: int64"
            ]
          },
          "metadata": {
            "tags": []
          },
          "execution_count": 23
        }
      ]
    },
    {
      "cell_type": "code",
      "metadata": {
        "id": "WnxNVG6d2O62",
        "colab": {
          "base_uri": "https://localhost:8080/",
          "height": 566
        },
        "outputId": "f559cdc0-5450-40e9-8b5c-8cb44d36b748"
      },
      "source": [
        "swn_counts= fin_data['SWN analysis'].value_counts()\n",
        "plt.figure(figsize=(10, 7))\n",
        "plt.pie(swn_counts.values, labels = swn_counts.index, explode = (0.1, 0, 0), autopct='%1.1f%%', shadow=False)\n",
        "# plt.legend()"
      ],
      "execution_count": 24,
      "outputs": [
        {
          "output_type": "execute_result",
          "data": {
            "text/plain": [
              "([<matplotlib.patches.Wedge at 0x7f33b19ba050>,\n",
              "  <matplotlib.patches.Wedge at 0x7f33b19ba7d0>,\n",
              "  <matplotlib.patches.Wedge at 0x7f33b19c2110>],\n",
              " [Text(-0.8142112171712897, 0.8815101212308608, 'Positive'),\n",
              "  Text(0.7203466304438425, -0.8313246850708828, 'Negative'),\n",
              "  Text(1.099446187840713, -0.03490100346013218, 'Neutral')],\n",
              " [Text(-0.474956543349919, 0.5142142373846688, '73.7%'),\n",
              "  Text(0.3929163438784595, -0.45344982822048147, '25.3%'),\n",
              "  Text(0.5996979206403887, -0.019036910978253916, '1.0%')])"
            ]
          },
          "metadata": {
            "tags": []
          },
          "execution_count": 24
        },
        {
          "output_type": "display_data",
          "data": {
            "image/png": "[encoded data removed]",
            "text/plain": [
              "<Figure size 720x504 with 1 Axes>"
            ]
          },
          "metadata": {
            "tags": []
          }
        }
      ]
    },
    {
      "cell_type": "code",
      "metadata": {
        "id": "0SmCifdIpFtE"
      },
      "source": [
        "def change_label(sent):\n",
        "  if sent == 0:\n",
        "    return \"Neutral\"\n",
        "  elif sent == 1:\n",
        "    return \"Positive\"\n",
        "  elif sent == -1:\n",
        "    return \"Negative\""
      ],
      "execution_count": 25,
      "outputs": []
    },
    {
      "cell_type": "code",
      "metadata": {
        "id": "41o1OKUipfFV"
      },
      "source": [
        "data['sent']=data.sent.apply(change_label)"
      ],
      "execution_count": 26,
      "outputs": []
    },
    {
      "cell_type": "code",
      "metadata": {
        "id": "O1tzBofup2RK"
      },
      "source": [
        "label_counts= data['sent'].value_counts()"
      ],
      "execution_count": 27,
      "outputs": []
    },
    {
      "cell_type": "code",
      "metadata": {
        "colab": {
          "base_uri": "https://localhost:8080/",
          "height": 566
        },
        "id": "7ZfTZD0fp9yr",
        "outputId": "8dbb3ed7-7298-45fe-90c0-77e9809f651f"
      },
      "source": [
        "plt.figure(figsize=(10, 7))\n",
        "plt.pie(label_counts.values, labels = label_counts.index, explode = (0.1, 0, 0), autopct='%1.1f%%', shadow=False)"
      ],
      "execution_count": 28,
      "outputs": [
        {
          "output_type": "execute_result",
          "data": {
            "text/plain": [
              "([<matplotlib.patches.Wedge at 0x7f33b198e7d0>,\n",
              "  <matplotlib.patches.Wedge at 0x7f33b198ef10>,\n",
              "  <matplotlib.patches.Wedge at 0x7f33b199a790>],\n",
              " [Text(0.5667253217379322, 1.0577440189861806, 'Neutral'),\n",
              "  Text(-1.0977853461644442, -0.06976627943793239, 'Positive'),\n",
              "  Text(0.5799480152555193, -0.934697972395995, 'Negative')],\n",
              " [Text(0.3305897710137937, 0.6170173444086052, '34.3%'),\n",
              "  Text(-0.5987920069987877, -0.0380543342388722, '33.3%'),\n",
              "  Text(0.31633528104846503, -0.5098352576705426, '32.3%')])"
            ]
          },
          "metadata": {
            "tags": []
          },
          "execution_count": 28
        },
        {
          "output_type": "display_data",
          "data": {
            "image/png": "[encoded data removed]",
            "text/plain": [
              "<Figure size 720x504 with 1 Axes>"
            ]
          },
          "metadata": {
            "tags": []
          }
        }
      ]
    },
    {
      "cell_type": "markdown",
      "metadata": {
        "id": "05Y8Aef-LB7e"
      },
      "source": [
        "# Flair"
      ]
    },
    {
      "cell_type": "code",
      "metadata": {
        "id": "Z2VcndbDLDYU"
      },
      "source": [
        "from flair.models import TextClassifier\n",
        "from flair.data import Sentence\n",
        "from segtok.segmenter import split_single"
      ],
      "execution_count": 30,
      "outputs": []
    },
    {
      "cell_type": "code",
      "metadata": {
        "colab": {
          "base_uri": "https://localhost:8080/",
          "height": 251,
          "referenced_widgets": [
            "0975fdb973a44e64b42257b605195329",
            "1b9f2a3eabae4491a276fa8282f84834",
            "1d7ada4b9b354ca4b2d630cfc333197b",
            "79cc9b8c3ddc45c1bdf5ca92488dab83",
            "42515f280f9b49d180ae45bf956c5175",
            "eb436d4a0a894c40928490d837ca28dd",
            "a82256f0ae624c27854bf151896a3317",
            "22faed7e48394b0da59dffe95f8665e6",
            "16723dd2599f415a94b45c2834ec40a8",
            "f5b32c4cc06f4cb2aabd1b33f50531e9",
            "91e69e5626a448d8bd5bc4bc7efbf225",
            "8f09dd65f7f2468f90573fde3ca74aa5",
            "042fd5d1f7094bf4b6199f6832c921cc",
            "81b5feeb6c694144a3578599a9372f8a",
            "3f00788ca1184100b97def90c1e7f6d7",
            "33a050685f5d4245a3ca3e9aaa6884e4",
            "cab0c0aa90614fffbf23c976bb4a2849",
            "c666915bc73f412aa459500ba2056717",
            "945957697fd64bfe9de8560b69b43466",
            "9c357cec17d84fe38489447150659b62",
            "73ad95d403c048739764a7eaf00f523f",
            "1734693f90c54264bf8e0799899f3b30",
            "bbb23089ca4b4fba8e0cc63e52f1369a",
            "7447b225f0614c448d99bf055a1ec90d",
            "9f792094cc234be19f74a53e65e5fcaf",
            "1f50d6d40faf45048267aab822c2ae3f",
            "cfc0465fab874ed7bbdd8e87566b32d8",
            "b29be6510d0947a78111217680ab5158",
            "6639cdc5045d4f4394b04868b0a3211d",
            "490409f1e3e44aa9a9d4fcead21e5f8b",
            "4e1bdba578814c998691eb2c8ccdc1cb",
            "7adb142854e641dca213f365672f6195",
            "2e79a8dff5a24ac08425de44150f1af5",
            "4f941c2bd80640a68c230bddc71fcf93",
            "07e6cf7b906344d0a482bbf4d1f35688",
            "48c2e6f37e674e4fa176b35ad12433df",
            "c3fa53654e2e4a46a1975506df28237e",
            "ff743d1b1bd14f66bc234ad44e4c62c4",
            "d2bdc05790df4e588e478ad69d880f7a",
            "a3de42110f0f4fef99072b51c8c12b1c",
            "8ba2193e39cd4cc19a7bb846f697b563",
            "84c162ee98ab46a2bc2492dad9031315",
            "8248aeffbd944dc1a0b1de952368f2ba",
            "78fc49abad7243bd933d1bbe20712ded"
          ]
        },
        "id": "5NI7Lj7vNvIw",
        "outputId": "4040e663-65ac-4fc2-980b-1f32a15abb70"
      },
      "source": [
        "classifier = TextClassifier.load('en-sentiment')"
      ],
      "execution_count": 39,
      "outputs": [
        {
          "output_type": "stream",
          "text": [
            "2021-08-16 13:46:48,414 https://nlp.informatik.hu-berlin.de/resources/models/sentiment-curated-distilbert/sentiment-en-mix-distillbert_4.pt not found in cache, downloading to /tmp/tmpx_vjk62j\n"
          ],
          "name": "stdout"
        },
        {
          "output_type": "stream",
          "text": [
            "100%|██████████| 265512723/265512723 [00:10<00:00, 24578110.12B/s]"
          ],
          "name": "stderr"
        },
        {
          "output_type": "stream",
          "text": [
            "2021-08-16 13:46:59,556 copying /tmp/tmpx_vjk62j to cache at /root/.flair/models/sentiment-en-mix-distillbert_4.pt\n"
          ],
          "name": "stdout"
        },
        {
          "output_type": "stream",
          "text": [
            "\n"
          ],
          "name": "stderr"
        },
        {
          "output_type": "stream",
          "text": [
            "2021-08-16 13:47:00,607 removing temp file /tmp/tmpx_vjk62j\n",
            "2021-08-16 13:47:02,401 loading file /root/.flair/models/sentiment-en-mix-distillbert_4.pt\n"
          ],
          "name": "stdout"
        },
        {
          "output_type": "display_data",
          "data": {
            "application/vnd.jupyter.widget-view+json": {
              "model_id": "0975fdb973a44e64b42257b605195329",
              "version_minor": 0,
              "version_major": 2
            },
            "text/plain": [
              "Downloading:   0%|          | 0.00/28.0 [00:00<?, ?B/s]"
            ]
          },
          "metadata": {
            "tags": []
          }
        },
        {
          "output_type": "display_data",
          "data": {
            "application/vnd.jupyter.widget-view+json": {
              "model_id": "8f09dd65f7f2468f90573fde3ca74aa5",
              "version_minor": 0,
              "version_major": 2
            },
            "text/plain": [
              "Downloading:   0%|          | 0.00/232k [00:00<?, ?B/s]"
            ]
          },
          "metadata": {
            "tags": []
          }
        },
        {
          "output_type": "display_data",
          "data": {
            "application/vnd.jupyter.widget-view+json": {
              "model_id": "bbb23089ca4b4fba8e0cc63e52f1369a",
              "version_minor": 0,
              "version_major": 2
            },
            "text/plain": [
              "Downloading:   0%|          | 0.00/466k [00:00<?, ?B/s]"
            ]
          },
          "metadata": {
            "tags": []
          }
        },
        {
          "output_type": "display_data",
          "data": {
            "application/vnd.jupyter.widget-view+json": {
              "model_id": "4f941c2bd80640a68c230bddc71fcf93",
              "version_minor": 0,
              "version_major": 2
            },
            "text/plain": [
              "Downloading:   0%|          | 0.00/442 [00:00<?, ?B/s]"
            ]
          },
          "metadata": {
            "tags": []
          }
        }
      ]
    },
    {
      "cell_type": "code",
      "metadata": {
        "id": "t9MuoMdENDbk"
      },
      "source": [
        "def make_sentences(text):\n",
        "    \"\"\" Break apart text into a list of sentences \"\"\"\n",
        "    sentences = [sent for sent in split_single(text)]\n",
        "    return sentences"
      ],
      "execution_count": 31,
      "outputs": []
    },
    {
      "cell_type": "code",
      "metadata": {
        "id": "vIPC-U3QMgkO"
      },
      "source": [
        "def flair_predict(sentence):\n",
        "    \"\"\" Predict the sentiment of a sentence \"\"\"\n",
        "    if sentence == \"\":\n",
        "        return 0\n",
        "    text = Sentence(sentence)\n",
        "    # stacked_embeddings.embed(text)\n",
        "    classifier.predict(text)\n",
        "    value = text.labels[0].to_dict()['value'] \n",
        "    if value == 'POSITIVE':\n",
        "        result = text.to_dict()['labels'][0]['confidence']\n",
        "    else:\n",
        "        result = -(text.to_dict()['labels'][0]['confidence'])\n",
        "    return round(result, 3)"
      ],
      "execution_count": 32,
      "outputs": []
    },
    {
      "cell_type": "code",
      "metadata": {
        "id": "kFnVqu3BMq7V"
      },
      "source": [
        "def get_scores(sentences):\n",
        "    \"\"\" Call predict on every sentence of a text \"\"\"\n",
        "    results = []\n",
        "    for i in range(0, len(sentences)): \n",
        "        results.append(flair_predict(sentences[i]))\n",
        "    return results\n",
        "\n",
        "def get_sum(scores):\n",
        "    result = round(sum(scores), 3)\n",
        "    return result"
      ],
      "execution_count": 37,
      "outputs": []
    },
    {
      "cell_type": "code",
      "metadata": {
        "id": "0YVv-B9QNOkI"
      },
      "source": [
        "data['sentences']=data.text.apply(make_sentences)"
      ],
      "execution_count": 34,
      "outputs": []
    },
    {
      "cell_type": "code",
      "metadata": {
        "id": "j0ZWAiT9NWp2"
      },
      "source": [
        "data['flair_score']=data.sentences.apply(get_scores)"
      ],
      "execution_count": 40,
      "outputs": []
    },
    {
      "cell_type": "code",
      "metadata": {
        "colab": {
          "base_uri": "https://localhost:8080/"
        },
        "id": "NFHQsdAORzM1",
        "outputId": "52ff4cd2-b7cb-4b0f-80bd-c2f18acd96cd"
      },
      "source": [
        "print(data.flair_score)"
      ],
      "execution_count": 53,
      "outputs": [
        {
          "output_type": "stream",
          "text": [
            "0     [-0.949, -0.955, -0.678, -0.99, -0.942, -0.863...\n",
            "1     [0.57, -0.96, -0.821, -0.988, 0.754, 0.93, 0.7...\n",
            "2     [-0.999, -0.947, -0.997, -0.955, -0.989, -0.96...\n",
            "3     [-1.0, -0.995, -0.998, -0.879, -0.988, -0.999,...\n",
            "4     [-1.0, 0.896, -0.989, 0.681, -0.526, 0.853, 0....\n",
            "                            ...                        \n",
            "94    [0.514, -0.576, -1.0, -0.735, -0.988, -0.999, ...\n",
            "95    [-0.847, -0.933, -0.664, -0.937, -0.994, 0.583...\n",
            "96    [-0.995, -1.0, -1.0, 0.52, -0.98, -1.0, -0.999...\n",
            "97    [0.994, -0.727, -0.934, 0.618, -0.717, -0.998,...\n",
            "98    [0.652, 0.997, 0.83, 0.572, -0.997, 0.776, -1....\n",
            "Name: flair_score, Length: 99, dtype: object\n"
          ],
          "name": "stdout"
        }
      ]
    },
    {
      "cell_type": "code",
      "metadata": {
        "id": "mBNZYv4cN7Kh"
      },
      "source": [
        "data['flair_sum'] = data.flair_score.apply(get_sum)"
      ],
      "execution_count": 54,
      "outputs": []
    },
    {
      "cell_type": "code",
      "metadata": {
        "colab": {
          "base_uri": "https://localhost:8080/"
        },
        "id": "Zf7q1HaoR3zA",
        "outputId": "7d87a909-8fc4-4fc6-c7bd-6efe0b23ef19"
      },
      "source": [
        "print(data.flair_sum)"
      ],
      "execution_count": 55,
      "outputs": [
        {
          "output_type": "stream",
          "text": [
            "0    -12.477\n",
            "1     -7.539\n",
            "2    -17.734\n",
            "3    -12.451\n",
            "4    -23.150\n",
            "       ...  \n",
            "94   -21.180\n",
            "95   -14.146\n",
            "96   -29.838\n",
            "97    -3.211\n",
            "98    -3.409\n",
            "Name: flair_sum, Length: 99, dtype: float64\n"
          ],
          "name": "stdout"
        }
      ]
    },
    {
      "cell_type": "code",
      "metadata": {
        "id": "hnuwoyn3OC32"
      },
      "source": [
        "def give_label(sent):\n",
        "  if sent == 0:\n",
        "    return \"Neutral\"\n",
        "  elif sent > 0:\n",
        "    return \"Positive\"\n",
        "  else:\n",
        "    return \"Negative\""
      ],
      "execution_count": 65,
      "outputs": []
    },
    {
      "cell_type": "code",
      "metadata": {
        "id": "j06Ku32j_2k0"
      },
      "source": [
        "data['flair_label'] = data.flair_sum.apply(give_label)"
      ],
      "execution_count": 66,
      "outputs": []
    },
    {
      "cell_type": "code",
      "metadata": {
        "id": "AI3GvMi1RGrE"
      },
      "source": [
        "flair_counts= data['flair_label'].value_counts()"
      ],
      "execution_count": 67,
      "outputs": []
    },
    {
      "cell_type": "code",
      "metadata": {
        "colab": {
          "base_uri": "https://localhost:8080/"
        },
        "id": "c_ab1ct4AGPY",
        "outputId": "691525c4-6e9e-4887-c562-1bffb96ac8c7"
      },
      "source": [
        "print(flair_counts)"
      ],
      "execution_count": 69,
      "outputs": [
        {
          "output_type": "stream",
          "text": [
            "Negative    82\n",
            "Positive    17\n",
            "Name: flair_label, dtype: int64\n"
          ],
          "name": "stdout"
        }
      ]
    },
    {
      "cell_type": "markdown",
      "metadata": {
        "id": "-568wIuD2O62"
      },
      "source": [
        "# Visual representation of TextBlob, VADER, SentiWordNet results"
      ]
    },
    {
      "cell_type": "code",
      "metadata": {
        "id": "R3T4u-4P2O63",
        "colab": {
          "base_uri": "https://localhost:8080/",
          "height": 448
        },
        "outputId": "0e530e20-1fbe-46e1-ca47-4e51b91a7732"
      },
      "source": [
        "import matplotlib.pyplot as plt\n",
        "%matplotlib inline\n",
        "\n",
        "plt.figure(figsize=(15,7))\n",
        "plt.subplot(1,3,1)\n",
        "plt.title(\"TextBlob results\")\n",
        "plt.pie(tb_counts.values, labels = tb_counts.index, autopct='%1.1f%%', shadow=False)\n",
        "plt.subplot(1,3,2)\n",
        "plt.title(\"VADER results\")\n",
        "plt.pie(vader_counts.values, labels = vader_counts.index, autopct='%1.1f%%', shadow=False)\n",
        "plt.subplot(1,3,3)\n",
        "plt.title(\"SentiWordNet results\")\n",
        "plt.pie(swn_counts.values, labels = swn_counts.index, autopct='%1.1f%%', shadow=False)"
      ],
      "execution_count": 73,
      "outputs": [
        {
          "output_type": "execute_result",
          "data": {
            "text/plain": [
              "([<matplotlib.patches.Wedge at 0x7f3317fac2d0>,\n",
              "  <matplotlib.patches.Wedge at 0x7f3317fac950>,\n",
              "  <matplotlib.patches.Wedge at 0x7f3317f36210>],\n",
              " [Text(-0.7463602824070156, 0.8080509444616224, 'Positive'),\n",
              "  Text(0.7203466304438425, -0.8313246850708828, 'Negative'),\n",
              "  Text(1.099446187840713, -0.03490100346013218, 'Neutral')],\n",
              " [Text(-0.4071056085856448, 0.4407550606154304, '73.7%'),\n",
              "  Text(0.3929163438784595, -0.45344982822048147, '25.3%'),\n",
              "  Text(0.5996979206403887, -0.019036910978253916, '1.0%')])"
            ]
          },
          "metadata": {
            "tags": []
          },
          "execution_count": 73
        },
        {
          "output_type": "display_data",
          "data": {
            "image/png": "[encoded data removed]",
            "text/plain": [
              "<Figure size 1080x504 with 3 Axes>"
            ]
          },
          "metadata": {
            "tags": []
          }
        }
      ]
    },
    {
      "cell_type": "code",
      "metadata": {
        "colab": {
          "base_uri": "https://localhost:8080/",
          "height": 355
        },
        "id": "xOIy_VmAqHqg",
        "outputId": "51706dcb-229c-4ebd-9cfb-641c424e76d9"
      },
      "source": [
        "plt.subplot(1,2,1)\n",
        "plt.title(\"Flair results\")\n",
        "plt.pie(flair_counts.values, labels = flair_counts.index, autopct='%1.1f%%', shadow=False)\n",
        "plt.subplot(1,2,2)\n",
        "plt.title(\"Manual results\")\n",
        "plt.pie(label_counts.values, labels = label_counts.index, autopct='%1.1f%%', shadow=False)\n"
      ],
      "execution_count": 74,
      "outputs": [
        {
          "output_type": "execute_result",
          "data": {
            "text/plain": [
              "([<matplotlib.patches.Wedge at 0x7f3317ec8810>,\n",
              "  <matplotlib.patches.Wedge at 0x7f3317ec8e90>,\n",
              "  <matplotlib.patches.Wedge at 0x7f3317ed4790>],\n",
              " [Text(0.5194982115931045, 0.9695986840706655, 'Neutral'),\n",
              "  Text(-1.0977853461644442, -0.06976627943793239, 'Positive'),\n",
              "  Text(0.5799480152555193, -0.934697972395995, 'Negative')],\n",
              " [Text(0.28336266086896605, 0.5288720094930902, '34.3%'),\n",
              "  Text(-0.5987920069987877, -0.0380543342388722, '33.3%'),\n",
              "  Text(0.31633528104846503, -0.5098352576705426, '32.3%')])"
            ]
          },
          "metadata": {
            "tags": []
          },
          "execution_count": 74
        },
        {
          "output_type": "display_data",
          "data": {
            "image/png": "[encoded data removed]",
            "text/plain": [
              "<Figure size 432x288 with 2 Axes>"
            ]
          },
          "metadata": {
            "tags": []
          }
        }
      ]
    }
  ]
}